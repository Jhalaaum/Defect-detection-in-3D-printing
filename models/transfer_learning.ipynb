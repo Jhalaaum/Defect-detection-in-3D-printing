{
 "cells": [
  {
   "cell_type": "code",
   "execution_count": 28,
   "metadata": {},
   "outputs": [],
   "source": [
    "import os\n",
    "from glob import glob\n",
    "import shutil\n",
    "from pathlib import Path, PurePath\n",
    "import json\n",
    "import time\n",
    "\n",
    "import pandas as pd\n",
    "import numpy as np\n",
    "import matplotlib.pyplot as plt\n",
    "import seaborn as sns\n",
    "\n",
    "import torch\n",
    "import torch.nn as nn\n",
    "import torch.nn.functional as F\n",
    "from torch.utils.data import Dataset, DataLoader\n",
    "from torch.cuda.amp import GradScaler, autocast\n",
    "\n",
    "from PIL import Image\n",
    "import cv2\n",
    "\n",
    "import segmentation_models_pytorch as smp\n",
    "\n",
    "from torchvision import transforms as T\n",
    "from tqdm import tqdm\n",
    "import albumentations as A\n",
    "from sklearn.model_selection import train_test_split"
   ]
  },
  {
   "cell_type": "code",
   "execution_count": 29,
   "metadata": {},
   "outputs": [
    {
     "name": "stdout",
     "output_type": "stream",
     "text": [
      "Using device: mps\n"
     ]
    }
   ],
   "source": [
    "%matplotlib inline\n",
    "torch.manual_seed(42)\n",
    "device = torch.device(\"mps\" if torch.backends.mps.is_available() else \"cpu\")\n",
    "print(f\"Using device: {device}\")"
   ]
  },
  {
   "cell_type": "code",
   "execution_count": 30,
   "metadata": {},
   "outputs": [],
   "source": [
    "IMAGES = './train/images'\n",
    "MASKS = './train/masks'\n",
    "classes_csv = './train/classes.csv'\n",
    "\n",
    "PATCH_IMAGES_DIR = './train_patched/images'\n",
    "PATCH_MASKS_DIR = './train_patched/masks'"
   ]
  },
  {
   "cell_type": "code",
   "execution_count": 31,
   "metadata": {},
   "outputs": [],
   "source": [
    "def create_tiles(img, mask, size=256, threshold=0.01, min_classes=2):\n",
    "    img_tensor = torch.from_numpy(img).permute(2, 0, 1)\n",
    "    mask_tensor = torch.from_numpy(mask)\n",
    "\n",
    "    img_patches = img_tensor.unfold(1, size, size).unfold(2, size, size)\n",
    "    img_patches = img_patches.contiguous().view(3, -1, size, size).permute(1, 0, 2, 3)\n",
    "\n",
    "    mask_patches = mask_tensor.unfold(0, size, size).unfold(1, size, size)\n",
    "    mask_patches = mask_patches.contiguous().view(-1, size, size)\n",
    "\n",
    "    keep_indices = []\n",
    "    for i, patch in enumerate(mask_patches):\n",
    "        unique_classes = torch.unique(patch)\n",
    "        foreground_pixels = (patch != 0).sum().item()\n",
    "        foreground_ratio = foreground_pixels / (size * size)\n",
    "        \n",
    "        if len(unique_classes) >= min_classes or foreground_ratio > threshold or np.random.rand() < 0.1:\n",
    "            keep_indices.append(i)\n",
    "\n",
    "    if not keep_indices:\n",
    "        keep_indices.append(np.random.randint(0, len(img_patches)))\n",
    "\n",
    "    return img_patches[keep_indices], mask_patches[keep_indices]"
   ]
  },
  {
   "cell_type": "code",
   "execution_count": 32,
   "metadata": {},
   "outputs": [
    {
     "name": "stdout",
     "output_type": "stream",
     "text": [
      "Patched data already exists. Skipping preprocessing.\n"
     ]
    }
   ],
   "source": [
    "os.makedirs(PATCH_IMAGES_DIR, exist_ok=True)\n",
    "os.makedirs(PATCH_MASKS_DIR, exist_ok=True)\n",
    "\n",
    "if not os.listdir(PATCH_IMAGES_DIR):\n",
    "    print(\"Preprocessing patches... This will only run once.\")\n",
    "    original_filenames = sorted([os.path.splitext(f)[0] for f in os.listdir(IMAGES)])\n",
    "    \n",
    "    for filename in tqdm(original_filenames, desc=\"Generating and Saving Patches\"):\n",
    "        img_path = os.path.join(IMAGES, filename + \".jpg\")\n",
    "        mask_path = os.path.join(MASKS, filename + \"_mask.png\")\n",
    "\n",
    "        img = cv2.imread(img_path)\n",
    "        img = cv2.cvtColor(img, cv2.COLOR_BGR2RGB)\n",
    "        mask = cv2.imread(mask_path, cv2.IMREAD_GRAYSCALE)\n",
    "\n",
    "        if mask is not None:\n",
    "            mask[mask == 3] = 255\n",
    "\n",
    "        if img.shape[:2] != mask.shape[:2]:\n",
    "            mask = cv2.resize(mask, (img.shape[1], img.shape[0]), interpolation=cv2.INTER_NEAREST)\n",
    "\n",
    "        img_patches, mask_patches = create_tiles(img, mask)\n",
    "\n",
    "        for i in range(len(img_patches)):\n",
    "            patch_img_np = img_patches[i].permute(1, 2, 0).numpy()\n",
    "            patch_mask_np = mask_patches[i].numpy()\n",
    "\n",
    "            save_img_path = os.path.join(PATCH_IMAGES_DIR, f\"{filename}_{i}.png\")\n",
    "            cv2.imwrite(save_img_path, cv2.cvtColor(patch_img_np, cv2.COLOR_RGB2BGR))\n",
    "\n",
    "            save_mask_path = os.path.join(PATCH_MASKS_DIR, f\"{filename}_{i}_mask.png\")\n",
    "            cv2.imwrite(save_mask_path, patch_mask_np)\n",
    "    print(\"Patch preprocessing complete.\")\n",
    "else:\n",
    "    print(\"Patched data already exists. Skipping preprocessing.\")"
   ]
  },
  {
   "cell_type": "code",
   "execution_count": 33,
   "metadata": {},
   "outputs": [],
   "source": [
    "class PorosityPatchedDataset(Dataset):\n",
    "    def __init__(self, image_dir, mask_dir, filenames, mean, std, transform=None):\n",
    "        self.img_dir = image_dir\n",
    "        self.mask_dir = mask_dir\n",
    "        self.x = filenames\n",
    "        self.mean = mean\n",
    "        self.std = std\n",
    "        self.transform = transform\n",
    "    \n",
    "    def __len__(self):\n",
    "        return len(self.x)\n",
    "    \n",
    "    def __getitem__(self, idx):\n",
    "        image_filename = self.x[idx]\n",
    "        mask_filename = os.path.splitext(image_filename)[0] + \"_mask.png\"\n",
    "        \n",
    "        img_path = os.path.join(self.img_dir, image_filename)\n",
    "        mask_path = os.path.join(self.mask_dir, mask_filename)\n",
    "\n",
    "        img = cv2.imread(img_path)\n",
    "        img = cv2.cvtColor(img, cv2.COLOR_BGR2RGB)\n",
    "        mask = cv2.imread(mask_path, cv2.IMREAD_GRAYSCALE)\n",
    "\n",
    "        if self.transform:\n",
    "            augmented = self.transform(image=img, mask=mask)\n",
    "            img = augmented['image']\n",
    "            mask = augmented['mask']\n",
    "\n",
    "        t = T.Compose([T.ToTensor(), T.Normalize(self.mean, self.std)])\n",
    "        img = t(img)\n",
    "        mask = torch.from_numpy(mask).long()\n",
    "            \n",
    "        return img, mask"
   ]
  },
  {
   "cell_type": "code",
   "execution_count": 34,
   "metadata": {},
   "outputs": [],
   "source": [
    "def custom_collate(batch):\n",
    "    images = [item[0] for item in batch]\n",
    "    masks = [item[1] for item in batch]\n",
    "    return images, masks"
   ]
  },
  {
   "cell_type": "code",
   "execution_count": 35,
   "metadata": {},
   "outputs": [],
   "source": [
    "class FocalLoss(nn.Module):\n",
    "    def __init__(self, weight=None, gamma=2, ignore_index=255): # Updated ignore_index\n",
    "        super().__init__()\n",
    "        self.gamma = gamma\n",
    "        self.ce = nn.CrossEntropyLoss(weight=weight, ignore_index=ignore_index)\n",
    "\n",
    "    def forward(self, input, target):\n",
    "        logpt = -self.ce(input, target)\n",
    "        pt = torch.exp(logpt)\n",
    "        loss = ((1 - pt) ** self.gamma) * -logpt\n",
    "        return loss.mean()\n",
    "\n",
    "class DiceLoss(nn.Module):\n",
    "    def __init__(self, n_classes, ignore_index=255):\n",
    "        super(DiceLoss, self).__init__()\n",
    "        self.n_classes = n_classes\n",
    "        self.ignore_index = ignore_index\n",
    "\n",
    "    def forward(self, input, target, smooth=1e-6):\n",
    "        input_soft = F.softmax(input, dim=1)\n",
    "        \n",
    "        if self.ignore_index is not None:\n",
    "            mask = target != self.ignore_index\n",
    "            target = target[mask]\n",
    "            input_soft = input_soft.permute(0, 2, 3, 1)[mask.unsqueeze(-1).expand_as(input_soft.permute(0, 2, 3, 1))]\n",
    "            input_soft = input_soft.reshape(-1, self.n_classes)\n",
    "\n",
    "\n",
    "        target_one_hot = F.one_hot(target, num_classes=self.n_classes).float()\n",
    "        \n",
    "        input_flat = input_soft.contiguous().view(-1)\n",
    "        target_flat = target_one_hot.contiguous().view(-1)\n",
    "        \n",
    "        intersection = (input_flat * target_flat).sum()\n",
    "        dice_score = (2. * intersection + smooth) / (input_flat.sum() + target_flat.sum() + smooth)\n",
    "        return 1 - dice_score\n",
    "\n",
    "class DiceFocalLoss(nn.Module):\n",
    "    def __init__(self, n_classes, weight=None, gamma=2, alpha=0.5, ignore_index=-100):\n",
    "        super(DiceFocalLoss, self).__init__()\n",
    "        self.alpha = alpha\n",
    "        self.focal_loss = FocalLoss(weight=weight, gamma=gamma, ignore_index=ignore_index)\n",
    "        self.dice_loss = DiceLoss(n_classes=n_classes, ignore_index=ignore_index)\n",
    "\n",
    "    def forward(self, input, target):\n",
    "        focal = self.focal_loss(input, target)\n",
    "        dice = self.dice_loss(input, target)\n",
    "        return self.alpha * focal + (1 - self.alpha) * dice\n"
   ]
  },
  {
   "cell_type": "code",
   "execution_count": 36,
   "metadata": {},
   "outputs": [],
   "source": [
    "def pixel_accuracy(output, mask):\n",
    "    with torch.no_grad():\n",
    "        output = torch.argmax(F.softmax(output, dim=1), dim=1)\n",
    "        correct = torch.eq(output, mask).int()\n",
    "        accuracy = float(correct.sum()) / float(correct.numel())\n",
    "    return accuracy"
   ]
  },
  {
   "cell_type": "code",
   "execution_count": 37,
   "metadata": {},
   "outputs": [],
   "source": [
    "def mIoU(pred_mask, mask, smooth=1e-10, n_classes=6, ignore_index=0):\n",
    "    with torch.no_grad():\n",
    "        pred_mask = F.softmax(pred_mask, dim=1)\n",
    "        pred_mask = torch.argmax(pred_mask, dim=1)\n",
    "        pred_mask = pred_mask.contiguous().view(-1)\n",
    "        mask = mask.contiguous().view(-1)\n",
    "\n",
    "        iou_per_class = []\n",
    "        for c in range(n_classes):\n",
    "            true_class = pred_mask == c\n",
    "            true_label = mask == c\n",
    "\n",
    "            if true_label.long().sum().item() == 0:\n",
    "                iou_per_class.append(np.nan)\n",
    "            else:\n",
    "                intersect = torch.logical_and(true_class, true_label).sum().float().item()\n",
    "                union = torch.logical_or(true_class, true_label).sum().float().item()\n",
    "                iou = (intersect + smooth) / (union + smooth)\n",
    "                iou_per_class.append(iou)\n",
    "        return np.nanmean(iou_per_class)"
   ]
  },
  {
   "cell_type": "code",
   "execution_count": 38,
   "metadata": {},
   "outputs": [],
   "source": [
    "def compute_per_class_iou(preds, labels, num_classes=6):\n",
    "    ious = []\n",
    "    preds = preds.view(-1)\n",
    "    labels = labels.view(-1)\n",
    "    for cls in range(num_classes):\n",
    "        pred_inds = preds == cls\n",
    "        label_inds = labels == cls\n",
    "        intersection = (pred_inds & label_inds).sum().item()\n",
    "        union = (pred_inds | label_inds).sum().item()\n",
    "        if union == 0:\n",
    "            ious.append(float('nan'))\n",
    "        else:\n",
    "            ious.append(intersection / union)\n",
    "    return ious"
   ]
  },
  {
   "cell_type": "code",
   "execution_count": 39,
   "metadata": {},
   "outputs": [],
   "source": [
    "def get_lr(optimizer):\n",
    "    for param_group in optimizer.param_groups:\n",
    "        return param_group['lr']"
   ]
  },
  {
   "cell_type": "code",
   "execution_count": 40,
   "metadata": {},
   "outputs": [],
   "source": [
    "def fit(epochs, model, train_loader, val_loader, criterion, optimizer, scheduler, num_classes=6):\n",
    "    train_losses, val_losses = [], []\n",
    "    train_iou, val_iou = [], []\n",
    "    train_acc, val_acc = [], []\n",
    "    lrs = []\n",
    "    min_loss = np.inf\n",
    "    no_improve = 0\n",
    "\n",
    "    model.to(device)\n",
    "    start_time = time.time()\n",
    "\n",
    "    for epoch in range(epochs):\n",
    "        epoch_start = time.time()\n",
    "        model.train()\n",
    "        running_loss, running_iou, running_acc, total_batches = 0, 0, 0, 0\n",
    "\n",
    "        for images, masks in tqdm(train_loader, desc=f\"Epoch {epoch+1} Training\"):\n",
    "            images = images.to(device)\n",
    "            masks = masks.to(device)\n",
    "            \n",
    "            optimizer.zero_grad()\n",
    "            outputs = model(images)\n",
    "            loss = criterion(outputs, masks)\n",
    "            loss.backward()\n",
    "            torch.nn.utils.clip_grad_norm_(model.parameters(), max_norm=1.0)\n",
    "            optimizer.step()\n",
    "            scheduler.step()\n",
    "\n",
    "            running_loss += loss.item()\n",
    "            running_iou += mIoU(outputs, masks)\n",
    "            running_acc += pixel_accuracy(outputs, masks)\n",
    "            total_batches += 1\n",
    "            lrs.append(get_lr(optimizer))\n",
    "\n",
    "        model.eval()\n",
    "        val_loss, val_iou_score, val_accuracy, val_batches = 0, 0, 0, 0\n",
    "        all_class_ious = []\n",
    "        with torch.no_grad():\n",
    "            for images, masks in tqdm(val_loader, desc=f\"Epoch {epoch+1} Validation\"):\n",
    "                images = images.to(device)\n",
    "                masks = masks.to(device)\n",
    "                \n",
    "                outputs = model(images)\n",
    "                val_loss += criterion(outputs, masks).item()\n",
    "                val_iou_score += mIoU(outputs, masks)\n",
    "                val_accuracy += pixel_accuracy(outputs, masks)\n",
    "\n",
    "                preds = torch.argmax(outputs, dim=1)\n",
    "                for pred, true_mask in zip(preds, masks):\n",
    "                    all_class_ious.append(compute_per_class_iou(pred, true_mask, num_classes))\n",
    "                val_batches += 1\n",
    "        \n",
    "        avg_train_loss = running_loss / total_batches\n",
    "        avg_val_loss = val_loss / val_batches\n",
    "        avg_train_iou = running_iou / total_batches\n",
    "        avg_val_iou = val_iou_score / val_batches\n",
    "        avg_train_acc = running_acc / total_batches\n",
    "        avg_val_acc = val_accuracy / val_batches\n",
    "\n",
    "        train_losses.append(avg_train_loss); val_losses.append(avg_val_loss)\n",
    "        train_iou.append(avg_train_iou); val_iou.append(avg_val_iou)\n",
    "        train_acc.append(avg_train_acc); val_acc.append(avg_val_acc)\n",
    "        \n",
    "        mean_class_ious = np.nanmean(np.array(all_class_ious), axis=0)\n",
    "\n",
    "        print(f\"Epoch [{epoch + 1}/{epochs}] - \"\n",
    "              f\"Train Loss: {avg_train_loss:.4f}, Val Loss: {avg_val_loss:.4f}, \"\n",
    "              f\"Train mIoU: {avg_train_iou:.4f}, Val mIoU: {avg_val_iou:.4f}, \"\n",
    "              f\"Train Acc: {avg_train_acc:.4f}, Val Acc: {avg_val_acc:.4f}, \"\n",
    "              f\"LR: {lrs[-1]:.6f}, \"\n",
    "              f\"Time: {(time.time() - epoch_start)/60:.2f} mins\")\n",
    "\n",
    "        print(\"\\n📊 Per-class IoU (Validation):\")\n",
    "        for i, iou in enumerate(mean_class_ious):\n",
    "            print(f\"  Class {i}: IoU = {iou:.4f}\")\n",
    "\n",
    "        if avg_val_loss < min_loss:\n",
    "            print(f\"Validation loss decreased ({min_loss:.4f} -> {avg_val_loss:.4f}). Saving model.\")\n",
    "            min_loss = avg_val_loss\n",
    "            no_improve = 0\n",
    "            torch.save(model.state_dict(), 'model_transfer_learning.pt')\n",
    "        else:\n",
    "            no_improve += 1\n",
    "            print(f\"No improvement in validation loss for {no_improve} epochs.\")\n",
    "            if no_improve >= 10:\n",
    "                print(\"Early stopping triggered.\")\n",
    "                break\n",
    "\n",
    "    total_time = (time.time() - start_time) / 60\n",
    "    print(f\"\\nTraining completed in {total_time:.2f} minutes.\")\n",
    "    history = {'train_loss': train_losses, 'val_loss': val_losses, 'train_miou': train_iou, 'val_miou': val_iou, 'train_acc': train_acc, 'val_acc': val_acc, 'lrs': lrs}\n",
    "    return history"
   ]
  },
  {
   "cell_type": "code",
   "execution_count": 41,
   "metadata": {},
   "outputs": [],
   "source": [
    "mean = [0.485, 0.456, 0.406]\n",
    "std = [0.229, 0.224, 0.225]"
   ]
  },
  {
   "cell_type": "code",
   "execution_count": 42,
   "metadata": {},
   "outputs": [],
   "source": [
    "t_train = A.Compose([A.VerticalFlip(), A.HorizontalFlip(), A.GridDistortion(p=0.2),\n",
    "                     A.GaussNoise(), A.RandomBrightnessContrast((0, 0.5), (0, 0.5))])\n",
    "t_val = A.Compose([A.HorizontalFlip(), A.GridDistortion(p=0.2)])"
   ]
  },
  {
   "cell_type": "code",
   "execution_count": 43,
   "metadata": {},
   "outputs": [],
   "source": [
    "x_all_patches = sorted(os.listdir(PATCH_IMAGES_DIR))\n",
    "x_temp, x_test = train_test_split(x_all_patches, test_size=0.10, random_state=42)\n",
    "x_train, x_val = train_test_split(x_temp, test_size=0.10, random_state=42)"
   ]
  },
  {
   "cell_type": "code",
   "execution_count": 44,
   "metadata": {},
   "outputs": [],
   "source": [
    "train_dataset = PorosityPatchedDataset(PATCH_IMAGES_DIR, PATCH_MASKS_DIR, x_train, mean, std, t_train)\n",
    "val_dataset = PorosityPatchedDataset(PATCH_IMAGES_DIR, PATCH_MASKS_DIR, x_val, mean, std, t_val)\n",
    "test_dataset = PorosityPatchedDataset(PATCH_IMAGES_DIR, PATCH_MASKS_DIR, x_test, mean, std, t_val)"
   ]
  },
  {
   "cell_type": "code",
   "execution_count": 45,
   "metadata": {},
   "outputs": [],
   "source": [
    "batch_size = 16 \n",
    "train_loader = DataLoader(train_dataset, batch_size=batch_size, shuffle=True, num_workers=0)\n",
    "val_loader = DataLoader(val_dataset, batch_size=batch_size, shuffle=False, num_workers=0)\n",
    "test_loader = DataLoader(test_dataset, batch_size=batch_size, shuffle=False, num_workers=0, pin_memory=True)"
   ]
  },
  {
   "cell_type": "code",
   "execution_count": 46,
   "metadata": {},
   "outputs": [
    {
     "name": "stdout",
     "output_type": "stream",
     "text": [
      "Train class distribution: [148923074    327874    477657         0     82728    163245]\n",
      "Val class distribution: [16662064    86990     3901        0     9404    17008]\n"
     ]
    }
   ],
   "source": [
    "def get_class_distribution(dataset, num_classes=6):\n",
    "    class_counts = np.zeros(num_classes, dtype=int)\n",
    "    for _, mask in DataLoader(dataset, batch_size=1):\n",
    "        for m in mask:\n",
    "            for cls in range(num_classes):\n",
    "                class_counts[cls] += torch.sum(m == cls).item()\n",
    "    return class_counts\n",
    "\n",
    "train_class_counts = get_class_distribution(train_dataset)\n",
    "val_class_counts = get_class_distribution(val_dataset)\n",
    "\n",
    "print(\"Train class distribution:\", train_class_counts)\n",
    "print(\"Val class distribution:\", val_class_counts)"
   ]
  },
  {
   "cell_type": "code",
   "execution_count": 47,
   "metadata": {},
   "outputs": [],
   "source": [
    "model = smp.Unet(\n",
    "    encoder_name=\"resnet34\",\n",
    "    encoder_weights=\"imagenet\",\n",
    "    in_channels=3,\n",
    "    classes=6,\n",
    ")"
   ]
  },
  {
   "cell_type": "code",
   "execution_count": 48,
   "metadata": {},
   "outputs": [],
   "source": [
    "def get_class_weights_from_masks(\n",
    "    masks_dir, \n",
    "    num_classes=6, \n",
    "    background_class_id=0, \n",
    "    background_weight_multiplier=0.01,\n",
    "):\n",
    "    class_counts = np.zeros(num_classes, dtype=np.int64)\n",
    "    total_pixels = 0\n",
    "\n",
    "    for mask_name in os.listdir(masks_dir):\n",
    "        if mask_name.endswith(\".png\"):\n",
    "            mask_path = os.path.join(masks_dir, mask_name)\n",
    "            mask = cv2.imread(mask_path, cv2.IMREAD_GRAYSCALE)\n",
    "            \n",
    "            if mask is not None:\n",
    "                total_pixels += mask.size\n",
    "                for cls in range(num_classes):\n",
    "                    class_counts[cls] += np.sum(mask == cls)\n",
    "    \n",
    "    class_frequencies = class_counts / total_pixels\n",
    "    class_frequencies[class_frequencies == 0] = 1e-6\n",
    "    \n",
    "    class_weights = 5.0 / class_frequencies\n",
    "    \n",
    "    class_weights[background_class_id] *= background_weight_multiplier\n",
    "    \n",
    "    class_weights = class_weights * (num_classes / np.sum(class_weights))\n",
    "    \n",
    "    return torch.tensor(class_weights, dtype=torch.float32)"
   ]
  },
  {
   "cell_type": "code",
   "execution_count": 49,
   "metadata": {},
   "outputs": [
    {
     "name": "stdout",
     "output_type": "stream",
     "text": [
      "Using class weights: tensor([7.1877e-08, 2.7203e-03, 2.7118e-03, 5.9746e+00, 1.3338e-02, 6.6449e-03],\n",
      "       device='mps:0')\n"
     ]
    }
   ],
   "source": [
    "class_weights = get_class_weights_from_masks(PATCH_MASKS_DIR, num_classes=6)\n",
    "class_weights = class_weights.to(device)\n",
    "print(f\"Using class weights: {class_weights}\")"
   ]
  },
  {
   "cell_type": "code",
   "execution_count": 50,
   "metadata": {},
   "outputs": [],
   "source": [
    "max_lr = 1e-3\n",
    "epoch = 100\n",
    "weight_decay = 1e-4"
   ]
  },
  {
   "cell_type": "code",
   "execution_count": 51,
   "metadata": {},
   "outputs": [],
   "source": [
    "boost_factor = 10.0\n",
    "class_weights[1] *= boost_factor\n",
    "class_weights[2] *= boost_factor\n",
    "class_weights[4] *= boost_factor\n",
    "class_weights[5] *= boost_factor"
   ]
  },
  {
   "cell_type": "code",
   "execution_count": 52,
   "metadata": {},
   "outputs": [],
   "source": [
    "class_weights = class_weights.to(device)"
   ]
  },
  {
   "cell_type": "code",
   "execution_count": 53,
   "metadata": {},
   "outputs": [],
   "source": [
    "criterion = DiceFocalLoss(\n",
    "    n_classes=6,\n",
    "    weight=class_weights,\n",
    "    gamma=2,\n",
    "    alpha=0.75,\n",
    "    ignore_index=255\n",
    ")\n",
    "optimizer = torch.optim.AdamW(model.parameters(), lr=max_lr, weight_decay=weight_decay)\n",
    "scheduler = torch.optim.lr_scheduler.OneCycleLR(optimizer, max_lr, epochs=epoch, steps_per_epoch=len(train_loader))"
   ]
  },
  {
   "cell_type": "code",
   "execution_count": 54,
   "metadata": {},
   "outputs": [
    {
     "name": "stderr",
     "output_type": "stream",
     "text": [
      "Epoch 1 Training: 100%|██████████| 172/172 [08:25<00:00,  2.94s/it]\n",
      "Epoch 1 Validation: 100%|██████████| 20/20 [00:43<00:00,  2.19s/it]\n"
     ]
    },
    {
     "name": "stdout",
     "output_type": "stream",
     "text": [
      "Epoch [1/100] - Train Loss: 1.0698, Val Loss: 0.7141, Train mIoU: 0.0240, Val mIoU: 0.0306, Train Acc: 0.0888, Val Acc: 0.1078, LR: 0.000043, Time: 9.15 mins\n",
      "\n",
      "📊 Per-class IoU (Validation):\n",
      "  Class 0: IoU = 0.1075\n",
      "  Class 1: IoU = 0.0014\n",
      "  Class 2: IoU = 0.0000\n",
      "  Class 3: IoU = 0.0000\n",
      "  Class 4: IoU = 0.0003\n",
      "  Class 5: IoU = 0.0100\n",
      "Validation loss decreased (inf -> 0.7141). Saving model.\n"
     ]
    },
    {
     "name": "stderr",
     "output_type": "stream",
     "text": [
      "Epoch 2 Training: 100%|██████████| 172/172 [11:42<00:00,  4.08s/it]\n",
      "Epoch 2 Validation: 100%|██████████| 20/20 [00:43<00:00,  2.18s/it]\n"
     ]
    },
    {
     "name": "stdout",
     "output_type": "stream",
     "text": [
      "Epoch [2/100] - Train Loss: 0.7916, Val Loss: 0.5969, Train mIoU: 0.0153, Val mIoU: 0.0307, Train Acc: 0.0533, Val Acc: 0.1062, LR: 0.000050, Time: 12.43 mins\n",
      "\n",
      "📊 Per-class IoU (Validation):\n",
      "  Class 0: IoU = 0.1050\n",
      "  Class 1: IoU = 0.0004\n",
      "  Class 2: IoU = 0.0000\n",
      "  Class 3: IoU = 0.0000\n",
      "  Class 4: IoU = 0.0007\n",
      "  Class 5: IoU = 0.0122\n",
      "Validation loss decreased (0.7141 -> 0.5969). Saving model.\n"
     ]
    },
    {
     "name": "stderr",
     "output_type": "stream",
     "text": [
      "Epoch 3 Training: 100%|██████████| 172/172 [15:20<00:00,  5.35s/it]\n",
      "Epoch 3 Validation: 100%|██████████| 20/20 [00:46<00:00,  2.34s/it]\n"
     ]
    },
    {
     "name": "stdout",
     "output_type": "stream",
     "text": [
      "Epoch [3/100] - Train Loss: 0.6811, Val Loss: 0.5214, Train mIoU: 0.0249, Val mIoU: 0.1224, Train Acc: 0.0921, Val Acc: 0.4485, LR: 0.000064, Time: 16.13 mins\n",
      "\n",
      "📊 Per-class IoU (Validation):\n",
      "  Class 0: IoU = 0.4419\n",
      "  Class 1: IoU = 0.0002\n",
      "  Class 2: IoU = 0.0000\n",
      "  Class 3: IoU = 0.0000\n",
      "  Class 4: IoU = 0.0014\n",
      "  Class 5: IoU = 0.0266\n",
      "Validation loss decreased (0.5969 -> 0.5214). Saving model.\n"
     ]
    },
    {
     "name": "stderr",
     "output_type": "stream",
     "text": [
      "Epoch 4 Training: 100%|██████████| 172/172 [13:13<00:00,  4.61s/it]\n",
      "Epoch 4 Validation: 100%|██████████| 20/20 [00:47<00:00,  2.37s/it]\n"
     ]
    },
    {
     "name": "stdout",
     "output_type": "stream",
     "text": [
      "Epoch [4/100] - Train Loss: 0.6116, Val Loss: 0.5474, Train mIoU: 0.0665, Val mIoU: 0.1217, Train Acc: 0.2584, Val Acc: 0.4781, LR: 0.000082, Time: 14.02 mins\n",
      "\n",
      "📊 Per-class IoU (Validation):\n",
      "  Class 0: IoU = 0.4769\n",
      "  Class 1: IoU = 0.0001\n",
      "  Class 2: IoU = 0.0000\n",
      "  Class 3: IoU = 0.0000\n",
      "  Class 4: IoU = 0.0020\n",
      "  Class 5: IoU = 0.0084\n",
      "No improvement in validation loss for 1 epochs.\n"
     ]
    },
    {
     "name": "stderr",
     "output_type": "stream",
     "text": [
      "Epoch 5 Training: 100%|██████████| 172/172 [28:25<00:00,  9.92s/it]  \n",
      "Epoch 5 Validation: 100%|██████████| 20/20 [00:38<00:00,  1.92s/it]\n"
     ]
    },
    {
     "name": "stdout",
     "output_type": "stream",
     "text": [
      "Epoch [5/100] - Train Loss: 0.5573, Val Loss: 0.4070, Train mIoU: 0.0900, Val mIoU: 0.1217, Train Acc: 0.3567, Val Acc: 0.4522, LR: 0.000104, Time: 29.07 mins\n",
      "\n",
      "📊 Per-class IoU (Validation):\n",
      "  Class 0: IoU = 0.4383\n",
      "  Class 1: IoU = 0.0002\n",
      "  Class 2: IoU = 0.0000\n",
      "  Class 3: IoU = 0.0000\n",
      "  Class 4: IoU = 0.0014\n",
      "  Class 5: IoU = 0.0135\n",
      "Validation loss decreased (0.5214 -> 0.4070). Saving model.\n"
     ]
    },
    {
     "name": "stderr",
     "output_type": "stream",
     "text": [
      "Epoch 6 Training: 100%|██████████| 172/172 [09:30<00:00,  3.32s/it]\n",
      "Epoch 6 Validation: 100%|██████████| 20/20 [00:28<00:00,  1.41s/it]\n",
      "/var/folders/bb/qsf9jl617j9cqyd0mvk3wzfh0000gn/T/ipykernel_10086/1951146847.py:64: RuntimeWarning: Mean of empty slice\n",
      "  mean_class_ious = np.nanmean(np.array(all_class_ious), axis=0)\n"
     ]
    },
    {
     "name": "stdout",
     "output_type": "stream",
     "text": [
      "Epoch [6/100] - Train Loss: 0.5573, Val Loss: 0.4356, Train mIoU: 0.1015, Val mIoU: 0.1386, Train Acc: 0.4044, Val Acc: 0.5441, LR: 0.000132, Time: 9.98 mins\n",
      "\n",
      "📊 Per-class IoU (Validation):\n",
      "  Class 0: IoU = 0.5361\n",
      "  Class 1: IoU = 0.0001\n",
      "  Class 2: IoU = 0.0002\n",
      "  Class 3: IoU = nan\n",
      "  Class 4: IoU = 0.0018\n",
      "  Class 5: IoU = 0.0128\n",
      "No improvement in validation loss for 1 epochs.\n"
     ]
    },
    {
     "name": "stderr",
     "output_type": "stream",
     "text": [
      "Epoch 7 Training: 100%|██████████| 172/172 [09:58<00:00,  3.48s/it]\n",
      "Epoch 7 Validation: 100%|██████████| 20/20 [00:39<00:00,  1.97s/it]\n"
     ]
    },
    {
     "name": "stdout",
     "output_type": "stream",
     "text": [
      "Epoch [7/100] - Train Loss: 0.5206, Val Loss: 0.4450, Train mIoU: 0.1208, Val mIoU: 0.1457, Train Acc: 0.5070, Val Acc: 0.5835, LR: 0.000163, Time: 10.64 mins\n",
      "\n",
      "📊 Per-class IoU (Validation):\n",
      "  Class 0: IoU = 0.5799\n",
      "  Class 1: IoU = 0.0005\n",
      "  Class 2: IoU = 0.0000\n",
      "  Class 3: IoU = nan\n",
      "  Class 4: IoU = 0.0035\n",
      "  Class 5: IoU = 0.0154\n",
      "No improvement in validation loss for 2 epochs.\n"
     ]
    },
    {
     "name": "stderr",
     "output_type": "stream",
     "text": [
      "Epoch 8 Training: 100%|██████████| 172/172 [12:33<00:00,  4.38s/it]\n",
      "Epoch 8 Validation: 100%|██████████| 20/20 [00:40<00:00,  2.02s/it]\n"
     ]
    },
    {
     "name": "stdout",
     "output_type": "stream",
     "text": [
      "Epoch [8/100] - Train Loss: 0.5338, Val Loss: 0.4298, Train mIoU: 0.1288, Val mIoU: 0.1685, Train Acc: 0.5452, Val Acc: 0.7194, LR: 0.000199, Time: 13.23 mins\n",
      "\n",
      "📊 Per-class IoU (Validation):\n",
      "  Class 0: IoU = 0.7132\n",
      "  Class 1: IoU = 0.0005\n",
      "  Class 2: IoU = 0.0000\n",
      "  Class 3: IoU = nan\n",
      "  Class 4: IoU = 0.0045\n",
      "  Class 5: IoU = 0.0164\n",
      "No improvement in validation loss for 3 epochs.\n"
     ]
    },
    {
     "name": "stderr",
     "output_type": "stream",
     "text": [
      "Epoch 9 Training: 100%|██████████| 172/172 [13:25<00:00,  4.68s/it]\n",
      "Epoch 9 Validation: 100%|██████████| 20/20 [00:49<00:00,  2.48s/it]\n"
     ]
    },
    {
     "name": "stdout",
     "output_type": "stream",
     "text": [
      "Epoch [9/100] - Train Loss: 0.5041, Val Loss: 0.4707, Train mIoU: 0.1344, Val mIoU: 0.1673, Train Acc: 0.5707, Val Acc: 0.6958, LR: 0.000238, Time: 14.26 mins\n",
      "\n",
      "📊 Per-class IoU (Validation):\n",
      "  Class 0: IoU = 0.6892\n",
      "  Class 1: IoU = 0.0002\n",
      "  Class 2: IoU = 0.0000\n",
      "  Class 3: IoU = nan\n",
      "  Class 4: IoU = 0.0032\n",
      "  Class 5: IoU = 0.0193\n",
      "No improvement in validation loss for 4 epochs.\n"
     ]
    },
    {
     "name": "stderr",
     "output_type": "stream",
     "text": [
      "Epoch 10 Training: 100%|██████████| 172/172 [14:48<00:00,  5.17s/it]\n",
      "Epoch 10 Validation: 100%|██████████| 20/20 [00:53<00:00,  2.67s/it]\n"
     ]
    },
    {
     "name": "stdout",
     "output_type": "stream",
     "text": [
      "Epoch [10/100] - Train Loss: 0.5206, Val Loss: 0.5888, Train mIoU: 0.1445, Val mIoU: 0.1365, Train Acc: 0.6259, Val Acc: 0.5993, LR: 0.000280, Time: 15.70 mins\n",
      "\n",
      "📊 Per-class IoU (Validation):\n",
      "  Class 0: IoU = 0.6188\n",
      "  Class 1: IoU = 0.0004\n",
      "  Class 2: IoU = 0.0005\n",
      "  Class 3: IoU = nan\n",
      "  Class 4: IoU = 0.0026\n",
      "  Class 5: IoU = 0.0259\n",
      "No improvement in validation loss for 5 epochs.\n"
     ]
    },
    {
     "name": "stderr",
     "output_type": "stream",
     "text": [
      "Epoch 11 Training: 100%|██████████| 172/172 [16:34<00:00,  5.78s/it]\n",
      "Epoch 11 Validation: 100%|██████████| 20/20 [01:06<00:00,  3.34s/it]\n"
     ]
    },
    {
     "name": "stdout",
     "output_type": "stream",
     "text": [
      "Epoch [11/100] - Train Loss: 0.5294, Val Loss: 0.6191, Train mIoU: 0.1518, Val mIoU: 0.1663, Train Acc: 0.6560, Val Acc: 0.7090, LR: 0.000325, Time: 17.69 mins\n",
      "\n",
      "📊 Per-class IoU (Validation):\n",
      "  Class 0: IoU = 0.7002\n",
      "  Class 1: IoU = 0.0048\n",
      "  Class 2: IoU = 0.0000\n",
      "  Class 3: IoU = nan\n",
      "  Class 4: IoU = 0.0045\n",
      "  Class 5: IoU = 0.0146\n",
      "No improvement in validation loss for 6 epochs.\n"
     ]
    },
    {
     "name": "stderr",
     "output_type": "stream",
     "text": [
      "Epoch 12 Training: 100%|██████████| 172/172 [11:50<00:00,  4.13s/it]\n",
      "Epoch 12 Validation: 100%|██████████| 20/20 [00:34<00:00,  1.74s/it]\n"
     ]
    },
    {
     "name": "stdout",
     "output_type": "stream",
     "text": [
      "Epoch [12/100] - Train Loss: 0.5037, Val Loss: 0.6557, Train mIoU: 0.1482, Val mIoU: 0.1765, Train Acc: 0.6418, Val Acc: 0.7481, LR: 0.000372, Time: 12.42 mins\n",
      "\n",
      "📊 Per-class IoU (Validation):\n",
      "  Class 0: IoU = 0.7402\n",
      "  Class 1: IoU = 0.0017\n",
      "  Class 2: IoU = 0.0000\n",
      "  Class 3: IoU = nan\n",
      "  Class 4: IoU = 0.0054\n",
      "  Class 5: IoU = 0.0241\n",
      "No improvement in validation loss for 7 epochs.\n"
     ]
    },
    {
     "name": "stderr",
     "output_type": "stream",
     "text": [
      "Epoch 13 Training: 100%|██████████| 172/172 [11:48<00:00,  4.12s/it]\n",
      "Epoch 13 Validation: 100%|██████████| 20/20 [00:34<00:00,  1.74s/it]\n"
     ]
    },
    {
     "name": "stdout",
     "output_type": "stream",
     "text": [
      "Epoch [13/100] - Train Loss: 0.5211, Val Loss: 0.4018, Train mIoU: 0.1564, Val mIoU: 0.1849, Train Acc: 0.6748, Val Acc: 0.7473, LR: 0.000420, Time: 12.39 mins\n",
      "\n",
      "📊 Per-class IoU (Validation):\n",
      "  Class 0: IoU = 0.7440\n",
      "  Class 1: IoU = 0.0034\n",
      "  Class 2: IoU = 0.0020\n",
      "  Class 3: IoU = nan\n",
      "  Class 4: IoU = 0.0094\n",
      "  Class 5: IoU = 0.0366\n",
      "Validation loss decreased (0.4070 -> 0.4018). Saving model.\n"
     ]
    },
    {
     "name": "stderr",
     "output_type": "stream",
     "text": [
      "Epoch 14 Training: 100%|██████████| 172/172 [12:16<00:00,  4.28s/it]\n",
      "Epoch 14 Validation: 100%|██████████| 20/20 [00:33<00:00,  1.70s/it]\n"
     ]
    },
    {
     "name": "stdout",
     "output_type": "stream",
     "text": [
      "Epoch [14/100] - Train Loss: 0.5043, Val Loss: 0.4810, Train mIoU: 0.1534, Val mIoU: 0.1815, Train Acc: 0.6632, Val Acc: 0.7633, LR: 0.000470, Time: 12.85 mins\n",
      "\n",
      "📊 Per-class IoU (Validation):\n",
      "  Class 0: IoU = 0.7571\n",
      "  Class 1: IoU = 0.0057\n",
      "  Class 2: IoU = 0.0020\n",
      "  Class 3: IoU = nan\n",
      "  Class 4: IoU = 0.0044\n",
      "  Class 5: IoU = 0.0294\n",
      "No improvement in validation loss for 1 epochs.\n"
     ]
    },
    {
     "name": "stderr",
     "output_type": "stream",
     "text": [
      "Epoch 15 Training: 100%|██████████| 172/172 [12:18<00:00,  4.29s/it]\n",
      "Epoch 15 Validation: 100%|██████████| 20/20 [00:40<00:00,  2.00s/it]\n"
     ]
    },
    {
     "name": "stdout",
     "output_type": "stream",
     "text": [
      "Epoch [15/100] - Train Loss: 0.5137, Val Loss: 0.6847, Train mIoU: 0.1532, Val mIoU: 0.1853, Train Acc: 0.6610, Val Acc: 0.7673, LR: 0.000520, Time: 12.97 mins\n",
      "\n",
      "📊 Per-class IoU (Validation):\n",
      "  Class 0: IoU = 0.7577\n",
      "  Class 1: IoU = 0.0094\n",
      "  Class 2: IoU = 0.0027\n",
      "  Class 3: IoU = nan\n",
      "  Class 4: IoU = 0.0061\n",
      "  Class 5: IoU = 0.0365\n",
      "No improvement in validation loss for 2 epochs.\n"
     ]
    },
    {
     "name": "stderr",
     "output_type": "stream",
     "text": [
      "Epoch 16 Training: 100%|██████████| 172/172 [12:43<00:00,  4.44s/it]\n",
      "Epoch 16 Validation: 100%|██████████| 20/20 [00:36<00:00,  1.84s/it]\n"
     ]
    },
    {
     "name": "stdout",
     "output_type": "stream",
     "text": [
      "Epoch [16/100] - Train Loss: 0.5265, Val Loss: 0.3577, Train mIoU: 0.1583, Val mIoU: 0.1751, Train Acc: 0.6620, Val Acc: 0.7284, LR: 0.000570, Time: 13.34 mins\n",
      "\n",
      "📊 Per-class IoU (Validation):\n",
      "  Class 0: IoU = 0.7214\n",
      "  Class 1: IoU = 0.0026\n",
      "  Class 2: IoU = 0.0010\n",
      "  Class 3: IoU = nan\n",
      "  Class 4: IoU = 0.0100\n",
      "  Class 5: IoU = 0.0282\n",
      "Validation loss decreased (0.4018 -> 0.3577). Saving model.\n"
     ]
    },
    {
     "name": "stderr",
     "output_type": "stream",
     "text": [
      "Epoch 17 Training: 100%|██████████| 172/172 [14:30<00:00,  5.06s/it]\n",
      "Epoch 17 Validation: 100%|██████████| 20/20 [00:43<00:00,  2.19s/it]\n"
     ]
    },
    {
     "name": "stdout",
     "output_type": "stream",
     "text": [
      "Epoch [17/100] - Train Loss: 0.5238, Val Loss: 0.5106, Train mIoU: 0.1538, Val mIoU: 0.1766, Train Acc: 0.6643, Val Acc: 0.7385, LR: 0.000620, Time: 15.23 mins\n",
      "\n",
      "📊 Per-class IoU (Validation):\n",
      "  Class 0: IoU = 0.7334\n",
      "  Class 1: IoU = 0.0041\n",
      "  Class 2: IoU = 0.0002\n",
      "  Class 3: IoU = nan\n",
      "  Class 4: IoU = 0.0047\n",
      "  Class 5: IoU = 0.0270\n",
      "No improvement in validation loss for 1 epochs.\n"
     ]
    },
    {
     "name": "stderr",
     "output_type": "stream",
     "text": [
      "Epoch 18 Training: 100%|██████████| 172/172 [14:01<00:00,  4.89s/it]\n",
      "Epoch 18 Validation: 100%|██████████| 20/20 [00:39<00:00,  1.97s/it]\n"
     ]
    },
    {
     "name": "stdout",
     "output_type": "stream",
     "text": [
      "Epoch [18/100] - Train Loss: 0.5132, Val Loss: 0.4346, Train mIoU: 0.1507, Val mIoU: 0.1620, Train Acc: 0.6482, Val Acc: 0.6944, LR: 0.000668, Time: 14.68 mins\n",
      "\n",
      "📊 Per-class IoU (Validation):\n",
      "  Class 0: IoU = 0.6856\n",
      "  Class 1: IoU = 0.0053\n",
      "  Class 2: IoU = 0.0003\n",
      "  Class 3: IoU = nan\n",
      "  Class 4: IoU = 0.0041\n",
      "  Class 5: IoU = 0.0151\n",
      "No improvement in validation loss for 2 epochs.\n"
     ]
    },
    {
     "name": "stderr",
     "output_type": "stream",
     "text": [
      "Epoch 19 Training: 100%|██████████| 172/172 [15:28<00:00,  5.40s/it]\n",
      "Epoch 19 Validation: 100%|██████████| 20/20 [00:52<00:00,  2.63s/it]\n"
     ]
    },
    {
     "name": "stdout",
     "output_type": "stream",
     "text": [
      "Epoch [19/100] - Train Loss: 0.5149, Val Loss: 0.4440, Train mIoU: 0.1531, Val mIoU: 0.1653, Train Acc: 0.6530, Val Acc: 0.6957, LR: 0.000715, Time: 16.35 mins\n",
      "\n",
      "📊 Per-class IoU (Validation):\n",
      "  Class 0: IoU = 0.6920\n",
      "  Class 1: IoU = 0.0014\n",
      "  Class 2: IoU = 0.0000\n",
      "  Class 3: IoU = nan\n",
      "  Class 4: IoU = 0.0029\n",
      "  Class 5: IoU = 0.0253\n",
      "No improvement in validation loss for 3 epochs.\n"
     ]
    },
    {
     "name": "stderr",
     "output_type": "stream",
     "text": [
      "Epoch 20 Training: 100%|██████████| 172/172 [13:50<00:00,  4.83s/it]\n",
      "Epoch 20 Validation: 100%|██████████| 20/20 [00:50<00:00,  2.51s/it]\n"
     ]
    },
    {
     "name": "stdout",
     "output_type": "stream",
     "text": [
      "Epoch [20/100] - Train Loss: 0.5151, Val Loss: 0.3865, Train mIoU: 0.1554, Val mIoU: 0.1812, Train Acc: 0.6512, Val Acc: 0.7602, LR: 0.000760, Time: 14.67 mins\n",
      "\n",
      "📊 Per-class IoU (Validation):\n",
      "  Class 0: IoU = 0.7542\n",
      "  Class 1: IoU = 0.0053\n",
      "  Class 2: IoU = 0.0000\n",
      "  Class 3: IoU = nan\n",
      "  Class 4: IoU = 0.0096\n",
      "  Class 5: IoU = 0.0222\n",
      "No improvement in validation loss for 4 epochs.\n"
     ]
    },
    {
     "name": "stderr",
     "output_type": "stream",
     "text": [
      "Epoch 21 Training: 100%|██████████| 172/172 [14:04<00:00,  4.91s/it]\n",
      "Epoch 21 Validation: 100%|██████████| 20/20 [00:44<00:00,  2.21s/it]\n"
     ]
    },
    {
     "name": "stdout",
     "output_type": "stream",
     "text": [
      "Epoch [21/100] - Train Loss: 0.5359, Val Loss: 0.3857, Train mIoU: 0.1521, Val mIoU: 0.1798, Train Acc: 0.6634, Val Acc: 0.7519, LR: 0.000802, Time: 14.81 mins\n",
      "\n",
      "📊 Per-class IoU (Validation):\n",
      "  Class 0: IoU = 0.7448\n",
      "  Class 1: IoU = 0.0037\n",
      "  Class 2: IoU = 0.0001\n",
      "  Class 3: IoU = nan\n",
      "  Class 4: IoU = 0.0079\n",
      "  Class 5: IoU = 0.0254\n",
      "No improvement in validation loss for 5 epochs.\n"
     ]
    },
    {
     "name": "stderr",
     "output_type": "stream",
     "text": [
      "Epoch 22 Training: 100%|██████████| 172/172 [14:22<00:00,  5.01s/it]\n",
      "Epoch 22 Validation: 100%|██████████| 20/20 [00:42<00:00,  2.15s/it]\n"
     ]
    },
    {
     "name": "stdout",
     "output_type": "stream",
     "text": [
      "Epoch [22/100] - Train Loss: 0.4864, Val Loss: 0.4308, Train mIoU: 0.1546, Val mIoU: 0.1731, Train Acc: 0.6722, Val Acc: 0.7272, LR: 0.000841, Time: 15.09 mins\n",
      "\n",
      "📊 Per-class IoU (Validation):\n",
      "  Class 0: IoU = 0.7191\n",
      "  Class 1: IoU = 0.0055\n",
      "  Class 2: IoU = 0.0001\n",
      "  Class 3: IoU = nan\n",
      "  Class 4: IoU = 0.0047\n",
      "  Class 5: IoU = 0.0270\n",
      "No improvement in validation loss for 6 epochs.\n"
     ]
    },
    {
     "name": "stderr",
     "output_type": "stream",
     "text": [
      "Epoch 23 Training: 100%|██████████| 172/172 [18:39<00:00,  6.51s/it]\n",
      "Epoch 23 Validation: 100%|██████████| 20/20 [01:13<00:00,  3.67s/it]\n"
     ]
    },
    {
     "name": "stdout",
     "output_type": "stream",
     "text": [
      "Epoch [23/100] - Train Loss: 0.5158, Val Loss: 0.5252, Train mIoU: 0.1611, Val mIoU: 0.1707, Train Acc: 0.6978, Val Acc: 0.7192, LR: 0.000877, Time: 19.89 mins\n",
      "\n",
      "📊 Per-class IoU (Validation):\n",
      "  Class 0: IoU = 0.7124\n",
      "  Class 1: IoU = 0.0043\n",
      "  Class 2: IoU = 0.0010\n",
      "  Class 3: IoU = nan\n",
      "  Class 4: IoU = 0.0037\n",
      "  Class 5: IoU = 0.0215\n",
      "No improvement in validation loss for 7 epochs.\n"
     ]
    },
    {
     "name": "stderr",
     "output_type": "stream",
     "text": [
      "Epoch 24 Training: 100%|██████████| 172/172 [18:39<00:00,  6.51s/it]\n",
      "Epoch 24 Validation: 100%|██████████| 20/20 [01:26<00:00,  4.33s/it]\n"
     ]
    },
    {
     "name": "stdout",
     "output_type": "stream",
     "text": [
      "Epoch [24/100] - Train Loss: 0.5379, Val Loss: 0.4133, Train mIoU: 0.1614, Val mIoU: 0.1874, Train Acc: 0.6970, Val Acc: 0.7672, LR: 0.000908, Time: 20.10 mins\n",
      "\n",
      "📊 Per-class IoU (Validation):\n",
      "  Class 0: IoU = 0.7606\n",
      "  Class 1: IoU = 0.0028\n",
      "  Class 2: IoU = 0.0045\n",
      "  Class 3: IoU = nan\n",
      "  Class 4: IoU = 0.0055\n",
      "  Class 5: IoU = 0.0400\n",
      "No improvement in validation loss for 8 epochs.\n"
     ]
    },
    {
     "name": "stderr",
     "output_type": "stream",
     "text": [
      "Epoch 25 Training: 100%|██████████| 172/172 [19:44<00:00,  6.89s/it]\n",
      "Epoch 25 Validation: 100%|██████████| 20/20 [01:30<00:00,  4.54s/it]\n"
     ]
    },
    {
     "name": "stdout",
     "output_type": "stream",
     "text": [
      "Epoch [25/100] - Train Loss: 0.4900, Val Loss: 0.3423, Train mIoU: 0.1553, Val mIoU: 0.1806, Train Acc: 0.6700, Val Acc: 0.7559, LR: 0.000936, Time: 21.26 mins\n",
      "\n",
      "📊 Per-class IoU (Validation):\n",
      "  Class 0: IoU = 0.7491\n",
      "  Class 1: IoU = 0.0010\n",
      "  Class 2: IoU = 0.0000\n",
      "  Class 3: IoU = nan\n",
      "  Class 4: IoU = 0.0067\n",
      "  Class 5: IoU = 0.0328\n",
      "Validation loss decreased (0.3577 -> 0.3423). Saving model.\n"
     ]
    },
    {
     "name": "stderr",
     "output_type": "stream",
     "text": [
      "Epoch 26 Training: 100%|██████████| 172/172 [15:59<00:00,  5.58s/it]\n",
      "Epoch 26 Validation: 100%|██████████| 20/20 [01:14<00:00,  3.75s/it]\n"
     ]
    },
    {
     "name": "stdout",
     "output_type": "stream",
     "text": [
      "Epoch [26/100] - Train Loss: 0.4962, Val Loss: 0.5772, Train mIoU: 0.1589, Val mIoU: 0.1937, Train Acc: 0.6813, Val Acc: 0.7882, LR: 0.000959, Time: 17.24 mins\n",
      "\n",
      "📊 Per-class IoU (Validation):\n",
      "  Class 0: IoU = 0.7811\n",
      "  Class 1: IoU = 0.0133\n",
      "  Class 2: IoU = 0.0000\n",
      "  Class 3: IoU = nan\n",
      "  Class 4: IoU = 0.0080\n",
      "  Class 5: IoU = 0.0308\n",
      "No improvement in validation loss for 1 epochs.\n"
     ]
    },
    {
     "name": "stderr",
     "output_type": "stream",
     "text": [
      "Epoch 27 Training: 100%|██████████| 172/172 [16:04<00:00,  5.61s/it]\n",
      "Epoch 27 Validation: 100%|██████████| 20/20 [00:50<00:00,  2.54s/it]\n"
     ]
    },
    {
     "name": "stdout",
     "output_type": "stream",
     "text": [
      "Epoch [27/100] - Train Loss: 0.5044, Val Loss: 0.5846, Train mIoU: 0.1575, Val mIoU: 0.1799, Train Acc: 0.6893, Val Acc: 0.7501, LR: 0.000977, Time: 16.93 mins\n",
      "\n",
      "📊 Per-class IoU (Validation):\n",
      "  Class 0: IoU = 0.7449\n",
      "  Class 1: IoU = 0.0041\n",
      "  Class 2: IoU = 0.0000\n",
      "  Class 3: IoU = nan\n",
      "  Class 4: IoU = 0.0081\n",
      "  Class 5: IoU = 0.0223\n",
      "No improvement in validation loss for 2 epochs.\n"
     ]
    },
    {
     "name": "stderr",
     "output_type": "stream",
     "text": [
      "Epoch 28 Training: 100%|██████████| 172/172 [16:54<00:00,  5.90s/it]\n",
      "Epoch 28 Validation: 100%|██████████| 20/20 [01:02<00:00,  3.13s/it]\n"
     ]
    },
    {
     "name": "stdout",
     "output_type": "stream",
     "text": [
      "Epoch [28/100] - Train Loss: 0.5074, Val Loss: 0.3834, Train mIoU: 0.1615, Val mIoU: 0.1792, Train Acc: 0.6863, Val Acc: 0.7462, LR: 0.000990, Time: 17.95 mins\n",
      "\n",
      "📊 Per-class IoU (Validation):\n",
      "  Class 0: IoU = 0.7397\n",
      "  Class 1: IoU = 0.0038\n",
      "  Class 2: IoU = 0.0016\n",
      "  Class 3: IoU = nan\n",
      "  Class 4: IoU = 0.0068\n",
      "  Class 5: IoU = 0.0335\n",
      "No improvement in validation loss for 3 epochs.\n"
     ]
    },
    {
     "name": "stderr",
     "output_type": "stream",
     "text": [
      "Epoch 29 Training: 100%|██████████| 172/172 [17:03<00:00,  5.95s/it]\n",
      "Epoch 29 Validation: 100%|██████████| 20/20 [01:07<00:00,  3.37s/it]\n"
     ]
    },
    {
     "name": "stdout",
     "output_type": "stream",
     "text": [
      "Epoch [29/100] - Train Loss: 0.5018, Val Loss: 0.3825, Train mIoU: 0.1620, Val mIoU: 0.1751, Train Acc: 0.6899, Val Acc: 0.7382, LR: 0.000997, Time: 18.18 mins\n",
      "\n",
      "📊 Per-class IoU (Validation):\n",
      "  Class 0: IoU = 0.7350\n",
      "  Class 1: IoU = 0.0017\n",
      "  Class 2: IoU = 0.0001\n",
      "  Class 3: IoU = nan\n",
      "  Class 4: IoU = 0.0052\n",
      "  Class 5: IoU = 0.0290\n",
      "No improvement in validation loss for 4 epochs.\n"
     ]
    },
    {
     "name": "stderr",
     "output_type": "stream",
     "text": [
      "Epoch 30 Training: 100%|██████████| 172/172 [17:45<00:00,  6.20s/it]\n",
      "Epoch 30 Validation: 100%|██████████| 20/20 [01:05<00:00,  3.25s/it]\n"
     ]
    },
    {
     "name": "stdout",
     "output_type": "stream",
     "text": [
      "Epoch [30/100] - Train Loss: 0.4855, Val Loss: 0.3894, Train mIoU: 0.1602, Val mIoU: 0.1821, Train Acc: 0.6800, Val Acc: 0.7580, LR: 0.001000, Time: 18.85 mins\n",
      "\n",
      "📊 Per-class IoU (Validation):\n",
      "  Class 0: IoU = 0.7524\n",
      "  Class 1: IoU = 0.0047\n",
      "  Class 2: IoU = 0.0000\n",
      "  Class 3: IoU = nan\n",
      "  Class 4: IoU = 0.0048\n",
      "  Class 5: IoU = 0.0398\n",
      "No improvement in validation loss for 5 epochs.\n"
     ]
    },
    {
     "name": "stderr",
     "output_type": "stream",
     "text": [
      "Epoch 31 Training: 100%|██████████| 172/172 [20:15<00:00,  7.07s/it]\n",
      "Epoch 31 Validation: 100%|██████████| 20/20 [01:44<00:00,  5.21s/it]\n"
     ]
    },
    {
     "name": "stdout",
     "output_type": "stream",
     "text": [
      "Epoch [31/100] - Train Loss: 0.4814, Val Loss: 0.5428, Train mIoU: 0.1607, Val mIoU: 0.1842, Train Acc: 0.6777, Val Acc: 0.7573, LR: 0.000999, Time: 22.00 mins\n",
      "\n",
      "📊 Per-class IoU (Validation):\n",
      "  Class 0: IoU = 0.7516\n",
      "  Class 1: IoU = 0.0014\n",
      "  Class 2: IoU = 0.0000\n",
      "  Class 3: IoU = nan\n",
      "  Class 4: IoU = 0.0051\n",
      "  Class 5: IoU = 0.0291\n",
      "No improvement in validation loss for 6 epochs.\n"
     ]
    },
    {
     "name": "stderr",
     "output_type": "stream",
     "text": [
      "Epoch 32 Training: 100%|██████████| 172/172 [22:50<00:00,  7.97s/it]\n",
      "Epoch 32 Validation: 100%|██████████| 20/20 [01:40<00:00,  5.02s/it]\n"
     ]
    },
    {
     "name": "stdout",
     "output_type": "stream",
     "text": [
      "Epoch [32/100] - Train Loss: 0.4724, Val Loss: 0.3271, Train mIoU: 0.1621, Val mIoU: 0.1758, Train Acc: 0.6912, Val Acc: 0.7462, LR: 0.000998, Time: 24.52 mins\n",
      "\n",
      "📊 Per-class IoU (Validation):\n",
      "  Class 0: IoU = 0.7425\n",
      "  Class 1: IoU = 0.0014\n",
      "  Class 2: IoU = 0.0001\n",
      "  Class 3: IoU = nan\n",
      "  Class 4: IoU = 0.0053\n",
      "  Class 5: IoU = 0.0278\n",
      "Validation loss decreased (0.3423 -> 0.3271). Saving model.\n"
     ]
    },
    {
     "name": "stderr",
     "output_type": "stream",
     "text": [
      "Epoch 33 Training: 100%|██████████| 172/172 [21:31<00:00,  7.51s/it]\n",
      "Epoch 33 Validation: 100%|██████████| 20/20 [01:20<00:00,  4.01s/it]\n"
     ]
    },
    {
     "name": "stdout",
     "output_type": "stream",
     "text": [
      "Epoch [33/100] - Train Loss: 0.4812, Val Loss: 0.3339, Train mIoU: 0.1655, Val mIoU: 0.1886, Train Acc: 0.6992, Val Acc: 0.7851, LR: 0.000995, Time: 22.86 mins\n",
      "\n",
      "📊 Per-class IoU (Validation):\n",
      "  Class 0: IoU = 0.7798\n",
      "  Class 1: IoU = 0.0035\n",
      "  Class 2: IoU = 0.0001\n",
      "  Class 3: IoU = nan\n",
      "  Class 4: IoU = 0.0078\n",
      "  Class 5: IoU = 0.0424\n",
      "No improvement in validation loss for 1 epochs.\n"
     ]
    },
    {
     "name": "stderr",
     "output_type": "stream",
     "text": [
      "Epoch 34 Training: 100%|██████████| 172/172 [18:42<00:00,  6.53s/it]\n",
      "Epoch 34 Validation: 100%|██████████| 20/20 [01:23<00:00,  4.15s/it]\n"
     ]
    },
    {
     "name": "stdout",
     "output_type": "stream",
     "text": [
      "Epoch [34/100] - Train Loss: 0.4775, Val Loss: 0.4907, Train mIoU: 0.1683, Val mIoU: 0.1868, Train Acc: 0.7164, Val Acc: 0.7632, LR: 0.000992, Time: 20.09 mins\n",
      "\n",
      "📊 Per-class IoU (Validation):\n",
      "  Class 0: IoU = 0.7587\n",
      "  Class 1: IoU = 0.0080\n",
      "  Class 2: IoU = 0.0000\n",
      "  Class 3: IoU = nan\n",
      "  Class 4: IoU = 0.0057\n",
      "  Class 5: IoU = 0.0341\n",
      "No improvement in validation loss for 2 epochs.\n"
     ]
    },
    {
     "name": "stderr",
     "output_type": "stream",
     "text": [
      "Epoch 35 Training: 100%|██████████| 172/172 [19:25<00:00,  6.78s/it]\n",
      "Epoch 35 Validation: 100%|██████████| 20/20 [01:48<00:00,  5.42s/it]\n"
     ]
    },
    {
     "name": "stdout",
     "output_type": "stream",
     "text": [
      "Epoch [35/100] - Train Loss: 0.4916, Val Loss: 0.3352, Train mIoU: 0.1596, Val mIoU: 0.1857, Train Acc: 0.6849, Val Acc: 0.7570, LR: 0.000987, Time: 21.23 mins\n",
      "\n",
      "📊 Per-class IoU (Validation):\n",
      "  Class 0: IoU = 0.7505\n",
      "  Class 1: IoU = 0.0060\n",
      "  Class 2: IoU = 0.0010\n",
      "  Class 3: IoU = nan\n",
      "  Class 4: IoU = 0.0060\n",
      "  Class 5: IoU = 0.0408\n",
      "No improvement in validation loss for 3 epochs.\n"
     ]
    },
    {
     "name": "stderr",
     "output_type": "stream",
     "text": [
      "Epoch 36 Training: 100%|██████████| 172/172 [19:26<00:00,  6.78s/it]\n",
      "Epoch 36 Validation: 100%|██████████| 20/20 [01:26<00:00,  4.33s/it]\n"
     ]
    },
    {
     "name": "stdout",
     "output_type": "stream",
     "text": [
      "Epoch [36/100] - Train Loss: 0.4537, Val Loss: 0.3562, Train mIoU: 0.1626, Val mIoU: 0.1745, Train Acc: 0.6798, Val Acc: 0.7094, LR: 0.000982, Time: 20.89 mins\n",
      "\n",
      "📊 Per-class IoU (Validation):\n",
      "  Class 0: IoU = 0.7012\n",
      "  Class 1: IoU = 0.0026\n",
      "  Class 2: IoU = 0.0003\n",
      "  Class 3: IoU = nan\n",
      "  Class 4: IoU = 0.0053\n",
      "  Class 5: IoU = 0.0350\n",
      "No improvement in validation loss for 4 epochs.\n"
     ]
    },
    {
     "name": "stderr",
     "output_type": "stream",
     "text": [
      "Epoch 37 Training: 100%|██████████| 172/172 [20:39<00:00,  7.21s/it]\n",
      "Epoch 37 Validation: 100%|██████████| 20/20 [01:54<00:00,  5.71s/it]\n"
     ]
    },
    {
     "name": "stdout",
     "output_type": "stream",
     "text": [
      "Epoch [37/100] - Train Loss: 0.4745, Val Loss: 0.3515, Train mIoU: 0.1639, Val mIoU: 0.1669, Train Acc: 0.6876, Val Acc: 0.6926, LR: 0.000975, Time: 22.56 mins\n",
      "\n",
      "📊 Per-class IoU (Validation):\n",
      "  Class 0: IoU = 0.6871\n",
      "  Class 1: IoU = 0.0025\n",
      "  Class 2: IoU = 0.0000\n",
      "  Class 3: IoU = nan\n",
      "  Class 4: IoU = 0.0041\n",
      "  Class 5: IoU = 0.0254\n",
      "No improvement in validation loss for 5 epochs.\n"
     ]
    },
    {
     "name": "stderr",
     "output_type": "stream",
     "text": [
      "Epoch 38 Training: 100%|██████████| 172/172 [21:47<00:00,  7.60s/it]\n",
      "Epoch 38 Validation: 100%|██████████| 20/20 [01:42<00:00,  5.15s/it]\n"
     ]
    },
    {
     "name": "stdout",
     "output_type": "stream",
     "text": [
      "Epoch [38/100] - Train Loss: 0.4562, Val Loss: 0.3251, Train mIoU: 0.1709, Val mIoU: 0.1751, Train Acc: 0.7237, Val Acc: 0.7309, LR: 0.000968, Time: 23.50 mins\n",
      "\n",
      "📊 Per-class IoU (Validation):\n",
      "  Class 0: IoU = 0.7259\n",
      "  Class 1: IoU = 0.0023\n",
      "  Class 2: IoU = 0.0000\n",
      "  Class 3: IoU = nan\n",
      "  Class 4: IoU = 0.0051\n",
      "  Class 5: IoU = 0.0262\n",
      "Validation loss decreased (0.3271 -> 0.3251). Saving model.\n"
     ]
    },
    {
     "name": "stderr",
     "output_type": "stream",
     "text": [
      "Epoch 39 Training: 100%|██████████| 172/172 [1:06:50<00:00, 23.32s/it]\n",
      "Epoch 39 Validation: 100%|██████████| 20/20 [05:11<00:00, 15.58s/it]\n"
     ]
    },
    {
     "name": "stdout",
     "output_type": "stream",
     "text": [
      "Epoch [39/100] - Train Loss: 0.4761, Val Loss: 0.3356, Train mIoU: 0.1621, Val mIoU: 0.1744, Train Acc: 0.6983, Val Acc: 0.7273, LR: 0.000960, Time: 72.05 mins\n",
      "\n",
      "📊 Per-class IoU (Validation):\n",
      "  Class 0: IoU = 0.7228\n",
      "  Class 1: IoU = 0.0037\n",
      "  Class 2: IoU = 0.0001\n",
      "  Class 3: IoU = nan\n",
      "  Class 4: IoU = 0.0043\n",
      "  Class 5: IoU = 0.0309\n",
      "No improvement in validation loss for 1 epochs.\n"
     ]
    },
    {
     "name": "stderr",
     "output_type": "stream",
     "text": [
      "Epoch 40 Training: 100%|██████████| 172/172 [49:33<00:00, 17.29s/it] \n",
      "Epoch 40 Validation: 100%|██████████| 20/20 [02:08<00:00,  6.40s/it]\n"
     ]
    },
    {
     "name": "stdout",
     "output_type": "stream",
     "text": [
      "Epoch [40/100] - Train Loss: 0.4428, Val Loss: 0.3425, Train mIoU: 0.1696, Val mIoU: 0.1819, Train Acc: 0.7185, Val Acc: 0.7383, LR: 0.000950, Time: 51.69 mins\n",
      "\n",
      "📊 Per-class IoU (Validation):\n",
      "  Class 0: IoU = 0.7324\n",
      "  Class 1: IoU = 0.0043\n",
      "  Class 2: IoU = 0.0002\n",
      "  Class 3: IoU = nan\n",
      "  Class 4: IoU = 0.0054\n",
      "  Class 5: IoU = 0.0432\n",
      "No improvement in validation loss for 2 epochs.\n"
     ]
    },
    {
     "name": "stderr",
     "output_type": "stream",
     "text": [
      "Epoch 41 Training: 100%|██████████| 172/172 [34:48<00:00, 12.14s/it]\n",
      "Epoch 41 Validation: 100%|██████████| 20/20 [03:40<00:00, 11.03s/it]\n"
     ]
    },
    {
     "name": "stdout",
     "output_type": "stream",
     "text": [
      "Epoch [41/100] - Train Loss: 0.4493, Val Loss: 0.3854, Train mIoU: 0.1699, Val mIoU: 0.1963, Train Acc: 0.7053, Val Acc: 0.7812, LR: 0.000940, Time: 38.48 mins\n",
      "\n",
      "📊 Per-class IoU (Validation):\n",
      "  Class 0: IoU = 0.7752\n",
      "  Class 1: IoU = 0.0042\n",
      "  Class 2: IoU = 0.0054\n",
      "  Class 3: IoU = nan\n",
      "  Class 4: IoU = 0.0072\n",
      "  Class 5: IoU = 0.0627\n",
      "No improvement in validation loss for 3 epochs.\n"
     ]
    },
    {
     "name": "stderr",
     "output_type": "stream",
     "text": [
      "Epoch 42 Training: 100%|██████████| 172/172 [1:50:47<00:00, 38.65s/it]\n",
      "Epoch 42 Validation: 100%|██████████| 20/20 [08:03<00:00, 24.16s/it]\n"
     ]
    },
    {
     "name": "stdout",
     "output_type": "stream",
     "text": [
      "Epoch [42/100] - Train Loss: 0.4649, Val Loss: 0.3903, Train mIoU: 0.1698, Val mIoU: 0.1914, Train Acc: 0.7011, Val Acc: 0.7759, LR: 0.000929, Time: 118.84 mins\n",
      "\n",
      "📊 Per-class IoU (Validation):\n",
      "  Class 0: IoU = 0.7697\n",
      "  Class 1: IoU = 0.0066\n",
      "  Class 2: IoU = 0.0047\n",
      "  Class 3: IoU = nan\n",
      "  Class 4: IoU = 0.0078\n",
      "  Class 5: IoU = 0.0498\n",
      "No improvement in validation loss for 4 epochs.\n"
     ]
    },
    {
     "name": "stderr",
     "output_type": "stream",
     "text": [
      "Epoch 43 Training: 100%|██████████| 172/172 [1:03:35<00:00, 22.18s/it]\n",
      "Epoch 43 Validation: 100%|██████████| 20/20 [03:27<00:00, 10.35s/it]\n"
     ]
    },
    {
     "name": "stdout",
     "output_type": "stream",
     "text": [
      "Epoch [43/100] - Train Loss: 0.4692, Val Loss: 0.3800, Train mIoU: 0.1720, Val mIoU: 0.1853, Train Acc: 0.7137, Val Acc: 0.7631, LR: 0.000917, Time: 67.04 mins\n",
      "\n",
      "📊 Per-class IoU (Validation):\n",
      "  Class 0: IoU = 0.7593\n",
      "  Class 1: IoU = 0.0019\n",
      "  Class 2: IoU = 0.0043\n",
      "  Class 3: IoU = nan\n",
      "  Class 4: IoU = 0.0093\n",
      "  Class 5: IoU = 0.0394\n",
      "No improvement in validation loss for 5 epochs.\n"
     ]
    },
    {
     "name": "stderr",
     "output_type": "stream",
     "text": [
      "Epoch 44 Training: 100%|██████████| 172/172 [36:24<00:00, 12.70s/it]\n",
      "Epoch 44 Validation: 100%|██████████| 20/20 [02:12<00:00,  6.64s/it]\n"
     ]
    },
    {
     "name": "stdout",
     "output_type": "stream",
     "text": [
      "Epoch [44/100] - Train Loss: 0.4379, Val Loss: 0.3268, Train mIoU: 0.1739, Val mIoU: 0.1927, Train Acc: 0.7249, Val Acc: 0.7739, LR: 0.000904, Time: 38.62 mins\n",
      "\n",
      "📊 Per-class IoU (Validation):\n",
      "  Class 0: IoU = 0.7704\n",
      "  Class 1: IoU = 0.0056\n",
      "  Class 2: IoU = 0.0034\n",
      "  Class 3: IoU = nan\n",
      "  Class 4: IoU = 0.0077\n",
      "  Class 5: IoU = 0.0536\n",
      "No improvement in validation loss for 6 epochs.\n"
     ]
    },
    {
     "name": "stderr",
     "output_type": "stream",
     "text": [
      "Epoch 45 Training: 100%|██████████| 172/172 [32:17<00:00, 11.26s/it]\n",
      "Epoch 45 Validation: 100%|██████████| 20/20 [02:24<00:00,  7.24s/it]\n"
     ]
    },
    {
     "name": "stdout",
     "output_type": "stream",
     "text": [
      "Epoch [45/100] - Train Loss: 0.4254, Val Loss: 0.4083, Train mIoU: 0.1743, Val mIoU: 0.1855, Train Acc: 0.7188, Val Acc: 0.7511, LR: 0.000891, Time: 34.70 mins\n",
      "\n",
      "📊 Per-class IoU (Validation):\n",
      "  Class 0: IoU = 0.7462\n",
      "  Class 1: IoU = 0.0037\n",
      "  Class 2: IoU = 0.0003\n",
      "  Class 3: IoU = nan\n",
      "  Class 4: IoU = 0.0063\n",
      "  Class 5: IoU = 0.0451\n",
      "No improvement in validation loss for 7 epochs.\n"
     ]
    },
    {
     "name": "stderr",
     "output_type": "stream",
     "text": [
      "Epoch 46 Training: 100%|██████████| 172/172 [47:57<00:00, 16.73s/it]   \n",
      "Epoch 46 Validation: 100%|██████████| 20/20 [02:57<00:00,  8.88s/it]\n"
     ]
    },
    {
     "name": "stdout",
     "output_type": "stream",
     "text": [
      "Epoch [46/100] - Train Loss: 0.4785, Val Loss: 0.3579, Train mIoU: 0.1704, Val mIoU: 0.1982, Train Acc: 0.7113, Val Acc: 0.7923, LR: 0.000876, Time: 50.93 mins\n",
      "\n",
      "📊 Per-class IoU (Validation):\n",
      "  Class 0: IoU = 0.7870\n",
      "  Class 1: IoU = 0.0075\n",
      "  Class 2: IoU = 0.0026\n",
      "  Class 3: IoU = nan\n",
      "  Class 4: IoU = 0.0132\n",
      "  Class 5: IoU = 0.0632\n",
      "No improvement in validation loss for 8 epochs.\n"
     ]
    },
    {
     "name": "stderr",
     "output_type": "stream",
     "text": [
      "Epoch 47 Training: 100%|██████████| 172/172 [54:40<00:00, 19.08s/it] \n",
      "Epoch 47 Validation: 100%|██████████| 20/20 [02:46<00:00,  8.32s/it]\n"
     ]
    },
    {
     "name": "stdout",
     "output_type": "stream",
     "text": [
      "Epoch [47/100] - Train Loss: 0.4418, Val Loss: 0.3202, Train mIoU: 0.1759, Val mIoU: 0.1954, Train Acc: 0.7222, Val Acc: 0.7803, LR: 0.000861, Time: 57.46 mins\n",
      "\n",
      "📊 Per-class IoU (Validation):\n",
      "  Class 0: IoU = 0.7744\n",
      "  Class 1: IoU = 0.0052\n",
      "  Class 2: IoU = 0.0041\n",
      "  Class 3: IoU = nan\n",
      "  Class 4: IoU = 0.0102\n",
      "  Class 5: IoU = 0.0614\n",
      "Validation loss decreased (0.3251 -> 0.3202). Saving model.\n"
     ]
    },
    {
     "name": "stderr",
     "output_type": "stream",
     "text": [
      "Epoch 48 Training: 100%|██████████| 172/172 [56:49<00:00, 19.82s/it] \n",
      "Epoch 48 Validation: 100%|██████████| 20/20 [06:24<00:00, 19.25s/it]\n"
     ]
    },
    {
     "name": "stdout",
     "output_type": "stream",
     "text": [
      "Epoch [48/100] - Train Loss: 0.4005, Val Loss: 0.3966, Train mIoU: 0.1722, Val mIoU: 0.1866, Train Acc: 0.7223, Val Acc: 0.7768, LR: 0.000845, Time: 63.24 mins\n",
      "\n",
      "📊 Per-class IoU (Validation):\n",
      "  Class 0: IoU = 0.7720\n",
      "  Class 1: IoU = 0.0021\n",
      "  Class 2: IoU = 0.0027\n",
      "  Class 3: IoU = nan\n",
      "  Class 4: IoU = 0.0084\n",
      "  Class 5: IoU = 0.0340\n",
      "No improvement in validation loss for 1 epochs.\n"
     ]
    },
    {
     "name": "stderr",
     "output_type": "stream",
     "text": [
      "Epoch 49 Training: 100%|██████████| 172/172 [1:31:05<00:00, 31.77s/it]\n",
      "Epoch 49 Validation: 100%|██████████| 20/20 [08:07<00:00, 24.36s/it]\n"
     ]
    },
    {
     "name": "stdout",
     "output_type": "stream",
     "text": [
      "Epoch [49/100] - Train Loss: 0.4168, Val Loss: 0.3173, Train mIoU: 0.1736, Val mIoU: 0.1896, Train Acc: 0.7263, Val Acc: 0.7660, LR: 0.000829, Time: 99.21 mins\n",
      "\n",
      "📊 Per-class IoU (Validation):\n",
      "  Class 0: IoU = 0.7602\n",
      "  Class 1: IoU = 0.0055\n",
      "  Class 2: IoU = 0.0003\n",
      "  Class 3: IoU = nan\n",
      "  Class 4: IoU = 0.0061\n",
      "  Class 5: IoU = 0.0559\n",
      "Validation loss decreased (0.3202 -> 0.3173). Saving model.\n"
     ]
    },
    {
     "name": "stderr",
     "output_type": "stream",
     "text": [
      "Epoch 50 Training: 100%|██████████| 172/172 [1:01:28<00:00, 21.44s/it]\n",
      "Epoch 50 Validation: 100%|██████████| 20/20 [02:13<00:00,  6.69s/it]\n"
     ]
    },
    {
     "name": "stdout",
     "output_type": "stream",
     "text": [
      "Epoch [50/100] - Train Loss: 0.4477, Val Loss: 0.3230, Train mIoU: 0.1795, Val mIoU: 0.1854, Train Acc: 0.7313, Val Acc: 0.7462, LR: 0.000812, Time: 63.70 mins\n",
      "\n",
      "📊 Per-class IoU (Validation):\n",
      "  Class 0: IoU = 0.7410\n",
      "  Class 1: IoU = 0.0036\n",
      "  Class 2: IoU = 0.0032\n",
      "  Class 3: IoU = nan\n",
      "  Class 4: IoU = 0.0057\n",
      "  Class 5: IoU = 0.0522\n",
      "No improvement in validation loss for 1 epochs.\n"
     ]
    },
    {
     "name": "stderr",
     "output_type": "stream",
     "text": [
      "Epoch 51 Training: 100%|██████████| 172/172 [28:39<00:00, 10.00s/it]\n",
      "Epoch 51 Validation: 100%|██████████| 20/20 [02:05<00:00,  6.27s/it]\n"
     ]
    },
    {
     "name": "stdout",
     "output_type": "stream",
     "text": [
      "Epoch [51/100] - Train Loss: 0.4339, Val Loss: 0.3011, Train mIoU: 0.1733, Val mIoU: 0.1898, Train Acc: 0.7172, Val Acc: 0.7654, LR: 0.000794, Time: 30.75 mins\n",
      "\n",
      "📊 Per-class IoU (Validation):\n",
      "  Class 0: IoU = 0.7601\n",
      "  Class 1: IoU = 0.0039\n",
      "  Class 2: IoU = 0.0006\n",
      "  Class 3: IoU = nan\n",
      "  Class 4: IoU = 0.0072\n",
      "  Class 5: IoU = 0.0582\n",
      "Validation loss decreased (0.3173 -> 0.3011). Saving model.\n"
     ]
    },
    {
     "name": "stderr",
     "output_type": "stream",
     "text": [
      "Epoch 52 Training: 100%|██████████| 172/172 [28:18<00:00,  9.88s/it]\n",
      "Epoch 52 Validation: 100%|██████████| 20/20 [02:12<00:00,  6.63s/it]\n"
     ]
    },
    {
     "name": "stdout",
     "output_type": "stream",
     "text": [
      "Epoch [52/100] - Train Loss: 0.4115, Val Loss: 0.4039, Train mIoU: 0.1738, Val mIoU: 0.1897, Train Acc: 0.7114, Val Acc: 0.7835, LR: 0.000775, Time: 30.52 mins\n",
      "\n",
      "📊 Per-class IoU (Validation):\n",
      "  Class 0: IoU = 0.7792\n",
      "  Class 1: IoU = 0.0026\n",
      "  Class 2: IoU = 0.0022\n",
      "  Class 3: IoU = nan\n",
      "  Class 4: IoU = 0.0098\n",
      "  Class 5: IoU = 0.0366\n",
      "No improvement in validation loss for 1 epochs.\n"
     ]
    },
    {
     "name": "stderr",
     "output_type": "stream",
     "text": [
      "Epoch 53 Training: 100%|██████████| 172/172 [52:46<00:00, 18.41s/it]   \n",
      "Epoch 53 Validation: 100%|██████████| 20/20 [01:36<00:00,  4.83s/it]\n"
     ]
    },
    {
     "name": "stdout",
     "output_type": "stream",
     "text": [
      "Epoch [53/100] - Train Loss: 0.4267, Val Loss: 0.3531, Train mIoU: 0.1751, Val mIoU: 0.1942, Train Acc: 0.7253, Val Acc: 0.7775, LR: 0.000756, Time: 54.38 mins\n",
      "\n",
      "📊 Per-class IoU (Validation):\n",
      "  Class 0: IoU = 0.7717\n",
      "  Class 1: IoU = 0.0060\n",
      "  Class 2: IoU = 0.0022\n",
      "  Class 3: IoU = nan\n",
      "  Class 4: IoU = 0.0086\n",
      "  Class 5: IoU = 0.0516\n",
      "No improvement in validation loss for 2 epochs.\n"
     ]
    },
    {
     "name": "stderr",
     "output_type": "stream",
     "text": [
      "Epoch 54 Training: 100%|██████████| 172/172 [23:38<00:00,  8.25s/it]\n",
      "Epoch 54 Validation: 100%|██████████| 20/20 [01:34<00:00,  4.70s/it]\n"
     ]
    },
    {
     "name": "stdout",
     "output_type": "stream",
     "text": [
      "Epoch [54/100] - Train Loss: 0.4135, Val Loss: 0.3840, Train mIoU: 0.1802, Val mIoU: 0.1927, Train Acc: 0.7464, Val Acc: 0.7872, LR: 0.000737, Time: 25.21 mins\n",
      "\n",
      "📊 Per-class IoU (Validation):\n",
      "  Class 0: IoU = 0.7807\n",
      "  Class 1: IoU = 0.0051\n",
      "  Class 2: IoU = 0.0030\n",
      "  Class 3: IoU = nan\n",
      "  Class 4: IoU = 0.0103\n",
      "  Class 5: IoU = 0.0398\n",
      "No improvement in validation loss for 3 epochs.\n"
     ]
    },
    {
     "name": "stderr",
     "output_type": "stream",
     "text": [
      "Epoch 55 Training: 100%|██████████| 172/172 [21:37<00:00,  7.55s/it]\n",
      "Epoch 55 Validation: 100%|██████████| 20/20 [01:31<00:00,  4.56s/it]\n"
     ]
    },
    {
     "name": "stdout",
     "output_type": "stream",
     "text": [
      "Epoch [55/100] - Train Loss: 0.3928, Val Loss: 0.3811, Train mIoU: 0.1789, Val mIoU: 0.1910, Train Acc: 0.7414, Val Acc: 0.7894, LR: 0.000717, Time: 23.15 mins\n",
      "\n",
      "📊 Per-class IoU (Validation):\n",
      "  Class 0: IoU = 0.7832\n",
      "  Class 1: IoU = 0.0041\n",
      "  Class 2: IoU = 0.0019\n",
      "  Class 3: IoU = nan\n",
      "  Class 4: IoU = 0.0092\n",
      "  Class 5: IoU = 0.0335\n",
      "No improvement in validation loss for 4 epochs.\n"
     ]
    },
    {
     "name": "stderr",
     "output_type": "stream",
     "text": [
      "Epoch 56 Training: 100%|██████████| 172/172 [37:43<00:00, 13.16s/it] \n",
      "Epoch 56 Validation: 100%|██████████| 20/20 [01:35<00:00,  4.80s/it]\n"
     ]
    },
    {
     "name": "stdout",
     "output_type": "stream",
     "text": [
      "Epoch [56/100] - Train Loss: 0.4382, Val Loss: 0.3130, Train mIoU: 0.1769, Val mIoU: 0.1933, Train Acc: 0.7349, Val Acc: 0.7911, LR: 0.000696, Time: 39.33 mins\n",
      "\n",
      "📊 Per-class IoU (Validation):\n",
      "  Class 0: IoU = 0.7845\n",
      "  Class 1: IoU = 0.0072\n",
      "  Class 2: IoU = 0.0009\n",
      "  Class 3: IoU = nan\n",
      "  Class 4: IoU = 0.0103\n",
      "  Class 5: IoU = 0.0414\n",
      "No improvement in validation loss for 5 epochs.\n"
     ]
    },
    {
     "name": "stderr",
     "output_type": "stream",
     "text": [
      "Epoch 57 Training: 100%|██████████| 172/172 [24:32<00:00,  8.56s/it]\n",
      "Epoch 57 Validation: 100%|██████████| 20/20 [02:07<00:00,  6.40s/it]\n"
     ]
    },
    {
     "name": "stdout",
     "output_type": "stream",
     "text": [
      "Epoch [57/100] - Train Loss: 0.3902, Val Loss: 0.3444, Train mIoU: 0.1792, Val mIoU: 0.1996, Train Acc: 0.7275, Val Acc: 0.7818, LR: 0.000676, Time: 26.68 mins\n",
      "\n",
      "📊 Per-class IoU (Validation):\n",
      "  Class 0: IoU = 0.7756\n",
      "  Class 1: IoU = 0.0104\n",
      "  Class 2: IoU = 0.0032\n",
      "  Class 3: IoU = nan\n",
      "  Class 4: IoU = 0.0079\n",
      "  Class 5: IoU = 0.0539\n",
      "No improvement in validation loss for 6 epochs.\n"
     ]
    },
    {
     "name": "stderr",
     "output_type": "stream",
     "text": [
      "Epoch 58 Training: 100%|██████████| 172/172 [28:17<00:00,  9.87s/it]\n",
      "Epoch 58 Validation: 100%|██████████| 20/20 [02:16<00:00,  6.81s/it]\n"
     ]
    },
    {
     "name": "stdout",
     "output_type": "stream",
     "text": [
      "Epoch [58/100] - Train Loss: 0.4083, Val Loss: 0.3413, Train mIoU: 0.1785, Val mIoU: 0.1860, Train Acc: 0.7331, Val Acc: 0.7512, LR: 0.000654, Time: 30.57 mins\n",
      "\n",
      "📊 Per-class IoU (Validation):\n",
      "  Class 0: IoU = 0.7433\n",
      "  Class 1: IoU = 0.0033\n",
      "  Class 2: IoU = 0.0027\n",
      "  Class 3: IoU = nan\n",
      "  Class 4: IoU = 0.0071\n",
      "  Class 5: IoU = 0.0317\n",
      "No improvement in validation loss for 7 epochs.\n"
     ]
    },
    {
     "name": "stderr",
     "output_type": "stream",
     "text": [
      "Epoch 59 Training: 100%|██████████| 172/172 [29:20<00:00, 10.24s/it]\n",
      "Epoch 59 Validation: 100%|██████████| 20/20 [01:31<00:00,  4.55s/it]\n"
     ]
    },
    {
     "name": "stdout",
     "output_type": "stream",
     "text": [
      "Epoch [59/100] - Train Loss: 0.3994, Val Loss: 0.3231, Train mIoU: 0.1795, Val mIoU: 0.1907, Train Acc: 0.7432, Val Acc: 0.7784, LR: 0.000633, Time: 30.87 mins\n",
      "\n",
      "📊 Per-class IoU (Validation):\n",
      "  Class 0: IoU = 0.7739\n",
      "  Class 1: IoU = 0.0039\n",
      "  Class 2: IoU = 0.0015\n",
      "  Class 3: IoU = nan\n",
      "  Class 4: IoU = 0.0104\n",
      "  Class 5: IoU = 0.0420\n",
      "No improvement in validation loss for 8 epochs.\n"
     ]
    },
    {
     "name": "stderr",
     "output_type": "stream",
     "text": [
      "Epoch 60 Training: 100%|██████████| 172/172 [23:56<00:00,  8.35s/it]\n",
      "Epoch 60 Validation: 100%|██████████| 20/20 [01:51<00:00,  5.60s/it]\n"
     ]
    },
    {
     "name": "stdout",
     "output_type": "stream",
     "text": [
      "Epoch [60/100] - Train Loss: 0.3795, Val Loss: 0.3485, Train mIoU: 0.1783, Val mIoU: 0.1991, Train Acc: 0.7400, Val Acc: 0.7844, LR: 0.000611, Time: 25.81 mins\n",
      "\n",
      "📊 Per-class IoU (Validation):\n",
      "  Class 0: IoU = 0.7790\n",
      "  Class 1: IoU = 0.0062\n",
      "  Class 2: IoU = 0.0055\n",
      "  Class 3: IoU = nan\n",
      "  Class 4: IoU = 0.0096\n",
      "  Class 5: IoU = 0.0511\n",
      "No improvement in validation loss for 9 epochs.\n"
     ]
    },
    {
     "name": "stderr",
     "output_type": "stream",
     "text": [
      "Epoch 61 Training: 100%|██████████| 172/172 [25:56<00:00,  9.05s/it]\n",
      "Epoch 61 Validation: 100%|██████████| 20/20 [02:02<00:00,  6.12s/it]"
     ]
    },
    {
     "name": "stdout",
     "output_type": "stream",
     "text": [
      "Epoch [61/100] - Train Loss: 0.4043, Val Loss: 0.3758, Train mIoU: 0.1799, Val mIoU: 0.1922, Train Acc: 0.7393, Val Acc: 0.7769, LR: 0.000589, Time: 27.98 mins\n",
      "\n",
      "📊 Per-class IoU (Validation):\n",
      "  Class 0: IoU = 0.7715\n",
      "  Class 1: IoU = 0.0070\n",
      "  Class 2: IoU = 0.0032\n",
      "  Class 3: IoU = nan\n",
      "  Class 4: IoU = 0.0074\n",
      "  Class 5: IoU = 0.0425\n",
      "No improvement in validation loss for 10 epochs.\n",
      "Early stopping triggered.\n",
      "\n",
      "Training completed in 1746.42 minutes.\n"
     ]
    },
    {
     "name": "stderr",
     "output_type": "stream",
     "text": [
      "\n"
     ]
    }
   ],
   "source": [
    "history = fit(epoch, model, train_loader, val_loader, criterion, optimizer, scheduler)"
   ]
  },
  {
   "cell_type": "code",
   "execution_count": 55,
   "metadata": {},
   "outputs": [
    {
     "data": {
      "image/png": "[encoded data removed]",
      "text/plain": [
       "<Figure size 640x480 with 1 Axes>"
      ]
     },
     "metadata": {},
     "output_type": "display_data"
    },
    {
     "data": {
      "image/png": "[encoded data removed]",
      "text/plain": [
       "<Figure size 640x480 with 1 Axes>"
      ]
     },
     "metadata": {},
     "output_type": "display_data"
    },
    {
     "data": {
      "image/png": "[encoded data removed]",
      "text/plain": [
       "<Figure size 640x480 with 1 Axes>"
      ]
     },
     "metadata": {},
     "output_type": "display_data"
    }
   ],
   "source": [
    "def plot_loss(history):\n",
    "    plt.plot(history['val_loss'], label='val', marker='o')\n",
    "    plt.plot(history['train_loss'], label='train', marker='o')\n",
    "    plt.title('Loss per epoch'); plt.ylabel('loss')\n",
    "    plt.xlabel('epoch')\n",
    "    plt.legend(), plt.grid()\n",
    "    plt.show()\n",
    "    \n",
    "def plot_score(history):\n",
    "    plt.plot(history['train_miou'], label='train_mIoU', marker='*')\n",
    "    plt.plot(history['val_miou'], label='val_mIoU',  marker='*')\n",
    "    plt.title('Score per epoch'); plt.ylabel('mean IoU')\n",
    "    plt.xlabel('epoch')\n",
    "    plt.legend(), plt.grid()\n",
    "    plt.show()\n",
    "    \n",
    "def plot_acc(history):\n",
    "    plt.plot(history['train_acc'], label='train_accuracy', marker='*')\n",
    "    plt.plot(history['val_acc'], label='val_accuracy',  marker='*')\n",
    "    plt.title('Accuracy per epoch'); plt.ylabel('Accuracy')\n",
    "    plt.xlabel('epoch')\n",
    "    plt.legend(), plt.grid()\n",
    "    plt.show()\n",
    "\n",
    "plot_loss(history)\n",
    "plot_score(history)\n",
    "plot_acc(history)"
   ]
  },
  {
   "cell_type": "code",
   "execution_count": 56,
   "metadata": {},
   "outputs": [],
   "source": [
    "CLASS_COLORS = [\n",
    "    [0, 0, 0],         # Class 0: Background\n",
    "    [255, 0, 0],       # Class 1\n",
    "    [0, 255, 0],       # Class 2\n",
    "    [0, 0, 0],         # Class 3 (part of background)\n",
    "    [255, 255, 0],     # Class 4\n",
    "    [0, 255, 255],     # Class 5\n",
    "]"
   ]
  },
  {
   "cell_type": "code",
   "execution_count": 57,
   "metadata": {},
   "outputs": [],
   "source": [
    "def evaluate_model(model, loader, device, num_classes):\n",
    "    \"\"\"\n",
    "    Calculates the test mIOU, pixel accuracy, and loss.\n",
    "    \"\"\"\n",
    "    print(\"Evaluating model...\")\n",
    "    model.eval()\n",
    "    \n",
    "    total_iou = 0.0\n",
    "    total_accuracy = 0.0\n",
    "    total_loss = 0.0\n",
    "    \n",
    "    # Define the loss function\n",
    "    criterion = nn.CrossEntropyLoss()\n",
    "    \n",
    "    with torch.no_grad():\n",
    "        for images, masks in tqdm(loader, desc=\"Evaluation\"):\n",
    "            images = images.to(device)\n",
    "            masks = masks.to(device, dtype=torch.long)\n",
    "            \n",
    "            outputs = model(images)\n",
    "            loss = criterion(outputs, masks)\n",
    "            \n",
    "            total_loss += loss.item()\n",
    "            \n",
    "            preds = torch.argmax(outputs, dim=1)\n",
    "            \n",
    "            # Calculate pixel accuracy\n",
    "            correct = (preds == masks).sum().item()\n",
    "            total = masks.nelement()\n",
    "            total_accuracy += correct / total\n",
    "            \n",
    "            # Calculate IoU for each class and then the mean\n",
    "            iou_per_batch = 0.0\n",
    "            for cls in range(num_classes):\n",
    "                pred_inds = preds == cls\n",
    "                target_inds = masks == cls\n",
    "                intersection = (pred_inds[target_inds]).long().sum().item()\n",
    "                union = pred_inds.long().sum().item() + target_inds.long().sum().item() - intersection\n",
    "                if union == 0:\n",
    "                    iou_per_batch += 1.0 # If there is no ground truth or prediction for this class, score is 1\n",
    "                else:\n",
    "                    iou_per_batch += intersection / union\n",
    "            total_iou += iou_per_batch / num_classes\n",
    "            \n",
    "    avg_loss = total_loss / len(loader)\n",
    "    avg_accuracy = total_accuracy / len(loader)\n",
    "    avg_iou = total_iou / len(loader)\n",
    "    \n",
    "    print(f\"Test Loss: {avg_loss:.4f}\")\n",
    "    print(f\"Test Accuracy: {avg_accuracy:.4f}\")\n",
    "    print(f\"Test mIOU: {avg_iou:.4f}\")"
   ]
  },
  {
   "cell_type": "code",
   "execution_count": 58,
   "metadata": {},
   "outputs": [],
   "source": [
    "def masks_to_color_img(mask, class_colors):\n",
    "    color_mask = np.zeros((mask.shape[0], mask.shape[1], 3), dtype=np.uint8)\n",
    "    for class_id, color in enumerate(class_colors):\n",
    "        color_mask[mask == class_id] = color\n",
    "    return color_mask\n",
    "\n",
    "def save_and_display_predictions(model, loader, device, output_dir=\"test_predictions\"):\n",
    "    print(f\"Saving prediction images to '{output_dir}/'...\")\n",
    "    os.makedirs(output_dir, exist_ok=True)\n",
    "    \n",
    "    model.eval()\n",
    "    \n",
    "    mean = np.array([0.485, 0.456, 0.406])\n",
    "    std = np.array([0.229, 0.224, 0.225])\n",
    "    \n",
    "    file_counter = 0\n",
    "    \n",
    "    with torch.no_grad():\n",
    "        for images, masks in tqdm(loader, desc=\"Generating Predictions\"):\n",
    "            images = images.to(device)\n",
    "            \n",
    "            outputs = model(images)\n",
    "            preds = torch.argmax(outputs, dim=1)\n",
    "\n",
    "            images_cpu = images.cpu()\n",
    "            masks_cpu = masks.cpu().numpy()\n",
    "            preds_cpu = preds.cpu().numpy()\n",
    "\n",
    "            for i in range(images_cpu.size(0)):\n",
    "                img_np = images_cpu[i].numpy().transpose(1, 2, 0)\n",
    "                img_np = (img_np * std + mean)\n",
    "                img_np = np.clip(img_np, 0, 1)\n",
    "\n",
    "                true_mask_np = masks_cpu[i]\n",
    "                pred_mask_np = preds_cpu[i]\n",
    "\n",
    "                true_mask_color = masks_to_color_img(true_mask_np, CLASS_COLORS)\n",
    "                pred_mask_color = masks_to_color_img(pred_mask_np, CLASS_COLORS)\n",
    "\n",
    "                fig, (ax1, ax2, ax3) = plt.subplots(1, 3, figsize=(18, 6))\n",
    "                \n",
    "                ax1.imshow(img_np)\n",
    "                ax1.set_title(\"Original Image\")\n",
    "                ax1.axis('off')\n",
    "                \n",
    "                ax2.imshow(true_mask_color)\n",
    "                ax2.set_title(\"Ground Truth Mask\")\n",
    "                ax2.axis('off')\n",
    "\n",
    "                ax3.imshow(pred_mask_color)\n",
    "                ax3.set_title(\"Predicted Mask\")\n",
    "                ax3.axis('off')\n",
    "                \n",
    "                plt.tight_layout()\n",
    "                \n",
    "                save_path = os.path.join(output_dir, f\"prediction_{file_counter}.png\")\n",
    "                plt.savefig(save_path)\n",
    "                plt.close(fig)\n",
    "                \n",
    "                file_counter += 1\n",
    "\n",
    "    print(f\"Finished. All {file_counter} prediction images have been saved.\")"
   ]
  },
  {
   "cell_type": "code",
   "execution_count": 59,
   "metadata": {},
   "outputs": [
    {
     "name": "stdout",
     "output_type": "stream",
     "text": [
      "Saving prediction images to 'test_predictions/'...\n"
     ]
    },
    {
     "name": "stderr",
     "output_type": "stream",
     "text": [
      "Generating Predictions: 100%|██████████| 22/22 [01:59<00:00,  5.44s/it]\n"
     ]
    },
    {
     "name": "stdout",
     "output_type": "stream",
     "text": [
      "Finished. All 339 prediction images have been saved.\n",
      "Evaluating model...\n"
     ]
    },
    {
     "name": "stderr",
     "output_type": "stream",
     "text": [
      "Evaluation: 100%|██████████| 22/22 [01:48<00:00,  4.92s/it]"
     ]
    },
    {
     "name": "stdout",
     "output_type": "stream",
     "text": [
      "Test Loss: 0.4640\n",
      "Test Accuracy: 0.7760\n",
      "Test mIOU: 0.3131\n"
     ]
    },
    {
     "name": "stderr",
     "output_type": "stream",
     "text": [
      "\n"
     ]
    }
   ],
   "source": [
    "model = smp.Unet(\n",
    "    encoder_name=\"resnet34\",\n",
    "    encoder_weights=\"imagenet\",\n",
    "    in_channels=3,\n",
    "    classes=6,\n",
    ")\n",
    "model.load_state_dict(torch.load('model_transfer_learning.pt', map_location=device))\n",
    "model.to(device)\n",
    "save_and_display_predictions(model, test_loader, device=device)\n",
    "evaluate_model(model, test_loader, device=device, num_classes=6)\n"
   ]
  },
  {
   "cell_type": "code",
   "execution_count": 60,
   "metadata": {},
   "outputs": [
    {
     "data": {
      "image/png": "[encoded data removed]",
      "text/plain": [
       "<Figure size 1800x600 with 1 Axes>"
      ]
     },
     "metadata": {},
     "output_type": "display_data"
    }
   ],
   "source": [
    "try:\n",
    "    first_prediction = cv2.imread('./test_predictions/prediction_0.png')\n",
    "    first_prediction = cv2.cvtColor(first_prediction, cv2.COLOR_BGR2RGB)\n",
    "    plt.figure(figsize=(18,6))\n",
    "    plt.imshow(first_prediction)\n",
    "    plt.axis('off')\n",
    "    plt.title(\"Example Saved Prediction (Image, Ground Truth, Prediction)\")\n",
    "    plt.show()\n",
    "except Exception as e:\n",
    "    print(f\"Could not display example image. Error: {e}\")"
   ]
  }
 ],
 "metadata": {
  "kernelspec": {
   "display_name": "Python 3",
   "language": "python",
   "name": "python3"
  },
  "language_info": {
   "codemirror_mode": {
    "name": "ipython",
    "version": 3
   },
   "file_extension": ".py",
   "mimetype": "text/x-python",
   "name": "python",
   "nbconvert_exporter": "python",
   "pygments_lexer": "ipython3",
   "version": "3.10.7"
  },
  "orig_nbformat": 4
 },
 "nbformat": 4,
 "nbformat_minor": 2
}
